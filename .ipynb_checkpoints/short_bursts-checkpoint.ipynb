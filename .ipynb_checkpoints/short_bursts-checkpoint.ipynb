{
 "cells": [
  {
   "cell_type": "code",
   "execution_count": 80,
   "metadata": {},
   "outputs": [],
   "source": [
    "import networkx as nx\n",
    "import matplotlib.pyplot as plt\n",
    "import random as rand"
   ]
  },
  {
   "cell_type": "markdown",
   "metadata": {},
   "source": [
    "### simple random walk"
   ]
  },
  {
   "cell_type": "code",
   "execution_count": null,
   "metadata": {},
   "outputs": [],
   "source": [
    "g = nx.grid_graph([1,20])\n",
    "\n",
    "state = random.choice(list(g.nodes()))\n",
    "state = (9, 0)\n",
    "steps = 20\n",
    "\n",
    "for i in range(steps):\n",
    "    node_colors = {x:0 for x in g.nodes}\n",
    "    edge_colors = {x:0 for x in g.edges}\n",
    "    old_state = state\n",
    "    \n",
    "    state = random.choice(list(g.neighbors(state)))\n",
    "    edge_colors[(old_state, state)]= 1\n",
    "    edge_colors[(state, old_state)]= 1\n",
    "    node_colors[old_state] = 2\n",
    "    node_colors[state]=1\n",
    "    plt.figure()\n",
    "    nx.draw(g,pos = {x:x for x in g.nodes()}, node_color = [node_colors[x] for x in g.nodes()],edge_color = [edge_colors[x] for x in g.edges()],\n",
    "        width =3, cmap=\"jet\")\n",
    "    plt.show()\n"
   ]
  },
  {
   "cell_type": "code",
   "execution_count": null,
   "metadata": {},
   "outputs": [],
   "source": []
  },
  {
   "cell_type": "markdown",
   "metadata": {},
   "source": [
    "### tilted random walk"
   ]
  },
  {
   "cell_type": "code",
   "execution_count": null,
   "metadata": {},
   "outputs": [],
   "source": []
  },
  {
   "cell_type": "code",
   "execution_count": null,
   "metadata": {},
   "outputs": [],
   "source": []
  },
  {
   "cell_type": "markdown",
   "metadata": {},
   "source": [
    "### short bursts"
   ]
  },
  {
   "cell_type": "code",
   "execution_count": 90,
   "metadata": {},
   "outputs": [
    {
     "data": {
      "text/plain": [
       "(array([235., 261., 165., 153.,  51.,  79.,  26.,  22.,   6.,   2.]),\n",
       " array([0. , 0.9, 1.8, 2.7, 3.6, 4.5, 5.4, 6.3, 7.2, 8.1, 9. ]),\n",
       " <a list of 10 Patch objects>)"
      ]
     },
     "execution_count": 90,
     "metadata": {},
     "output_type": "execute_result"
    },
    {
     "data": {
      "image/png": "[encoded data removed]",
      "text/plain": [
       "<Figure size 432x288 with 1 Axes>"
      ]
     },
     "metadata": {
      "needs_background": "light"
     },
     "output_type": "display_data"
    }
   ],
   "source": [
    "\"\"\"Show distribution of Z_m, the burst maxes/record highs for each burst.\"\"\"\n",
    "\n",
    "# initial position\n",
    "current = 0\n",
    "\n",
    "# burst params\n",
    "m = 9\n",
    "num_bursts = 1000\n",
    "total_length = m * num_bursts\n",
    "\n",
    "random_walk = []\n",
    "burst_maxes = []\n",
    "\n",
    "for j in range(num_bursts):\n",
    "    \n",
    "    burst = []\n",
    "    current = 0\n",
    "    burst_max = 0\n",
    "    \n",
    "    for i in range(m):\n",
    "        alpha = rand.random()\n",
    "        if (alpha > .5):\n",
    "            current += 1\n",
    "        else:\n",
    "            current -= 1\n",
    "            \n",
    "        burst.append(current)\n",
    "        burst_max = max(burst_max, current)\n",
    "        \n",
    "    burst_maxes.append(burst_max)\n",
    "\n",
    "plt.hist(burst_maxes)"
   ]
  },
  {
   "cell_type": "code",
   "execution_count": 183,
   "metadata": {},
   "outputs": [
    {
     "data": {
      "image/png": "[encoded data removed]",
      "text/plain": [
       "<Figure size 432x288 with 1 Axes>"
      ]
     },
     "metadata": {
      "needs_background": "light"
     },
     "output_type": "display_data"
    }
   ],
   "source": [
    "\"\"\"Visualize short burst run.\"\"\"\n",
    "\n",
    "\n",
    "# initial position\n",
    "current = 0\n",
    "\n",
    "# burst params\n",
    "m = 10\n",
    "num_bursts = 10\n",
    "total_length = m * num_bursts\n",
    "\n",
    "\n",
    "# probability of moving right\n",
    "probabilities = [.5]\n",
    "\n",
    "for k in probabilities:\n",
    "    t = 0\n",
    "    \n",
    "    burst_max = 0 # position, time\n",
    "    burst_maxes = []\n",
    "    random_walk = []\n",
    "    \n",
    "    for j in range(num_bursts):\n",
    "\n",
    "        burst = []\n",
    "        current = burst_max\n",
    "        max_time = 0 \n",
    "        \n",
    "        for i in range(m):\n",
    "            t+=1\n",
    "            alpha = rand.random()\n",
    "            if (alpha < k):\n",
    "                current += 1\n",
    "            else:\n",
    "                current -= 1\n",
    "\n",
    "            random_walk.append((current, t))\n",
    "            \n",
    "            if (current > burst_max):\n",
    "                burst_max = max(burst_max, current)\n",
    "                max_time = t\n",
    "\n",
    "    x, y = zip(*random_walk)\n",
    "    plt.plot(x, y, label='p = {0}'.format(k))\n",
    "    \n",
    "ax = plt.gca()\n",
    "ax.spines['left'].set_position(('data',0))\n",
    "plt.xlim([-total_length, total_length])\n",
    "plt.ylim([0, total_length * 1.1])\n",
    "plt.legend(loc='upper left')\n",
    "plt.xlabel(\"Position\")\n",
    "plt.ylabel(\"Time\")\n",
    "plt.title(\"Short bursts\")\n",
    "plt.show()"
   ]
  },
  {
   "cell_type": "code",
   "execution_count": 189,
   "metadata": {},
   "outputs": [
    {
     "data": {
      "image/png": "[encoded data removed]",
      "text/plain": [
       "<Figure size 432x288 with 1 Axes>"
      ]
     },
     "metadata": {
      "needs_background": "light"
     },
     "output_type": "display_data"
    }
   ],
   "source": [
    "# initial position\n",
    "current = 0\n",
    "\n",
    "# burst params\n",
    "m = 10\n",
    "num_bursts = 10\n",
    "total_length = m * num_bursts\n",
    "\n",
    "unbiased_probabilities = [.5, .7, .9]\n",
    "\n",
    "# simple random walk\n",
    "for k in unbiased_probabilities:\n",
    "\n",
    "    random_walk = []\n",
    "    current = 0\n",
    "\n",
    "    for j in range(total_length):\n",
    "        alpha = rand.random()\n",
    "        if (alpha < k):\n",
    "            current += 1 \n",
    "        else:\n",
    "            current -= 1\n",
    "            \n",
    "        random_walk.append((current, j))\n",
    "\n",
    "    x, y = zip(*random_walk)\n",
    "    plt.plot(x, y, label='p = {0}'.format(k))\n",
    "\n",
    "# short burst\n",
    "# probability of moving right\n",
    "burst_probabilities = [.5]\n",
    "\n",
    "for k in burst_probabilities:\n",
    "    t = 0\n",
    "    \n",
    "    burst_max = 0\n",
    "    burst_maxes = []\n",
    "    random_walk = []\n",
    "    \n",
    "    for j in range(num_bursts):\n",
    "\n",
    "        burst = []\n",
    "        current = burst_max \n",
    "\n",
    "        for i in range(m):\n",
    "            t+=1\n",
    "            alpha = rand.random()\n",
    "            if (alpha < k):\n",
    "                current += 1\n",
    "            else:\n",
    "                current -= 1\n",
    "\n",
    "            random_walk.append((current, t))\n",
    "            burst_max = max(burst_max, current)\n",
    "\n",
    "    x, y = zip(*random_walk)\n",
    "    plt.plot(x, y, label='short burst, p = {0}'.format(k))\n",
    "    \n",
    "ax = plt.gca()\n",
    "ax.spines['left'].set_position(('data',0))\n",
    "plt.xlim([-total_length, total_length])\n",
    "plt.ylim([0, total_length * 1.1])\n",
    "plt.legend(loc='upper left')\n",
    "plt.xlabel(\"Position\")\n",
    "plt.ylabel(\"Time\")\n",
    "plt.title(\"Unbiased walks and short bursts\")\n",
    "plt.show()"
   ]
  },
  {
   "cell_type": "code",
   "execution_count": null,
   "metadata": {},
   "outputs": [],
   "source": []
  },
  {
   "cell_type": "code",
   "execution_count": null,
   "metadata": {},
   "outputs": [],
   "source": []
  }
 ],
 "metadata": {
  "kernelspec": {
   "display_name": "Python 3",
   "language": "python",
   "name": "python3"
  },
  "language_info": {
   "codemirror_mode": {
    "name": "ipython",
    "version": 3
   },
   "file_extension": ".py",
   "mimetype": "text/x-python",
   "name": "python",
   "nbconvert_exporter": "python",
   "pygments_lexer": "ipython3",
   "version": "3.6.8"
  }
 },
 "nbformat": 4,
 "nbformat_minor": 2
}

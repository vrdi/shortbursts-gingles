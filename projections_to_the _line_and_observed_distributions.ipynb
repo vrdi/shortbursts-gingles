{
 "cells": [
  {
   "cell_type": "markdown",
   "metadata": {},
   "source": [
    "# Short Bursts Distributions\n",
    "\n",
    "We look at short bursts on PA and AR senate."
   ]
  },
  {
   "cell_type": "code",
   "execution_count": 49,
   "metadata": {},
   "outputs": [],
   "source": [
    "import matplotlib.pyplot as plt\n",
    "from gerrychain import (GeographicPartition, Partition, Graph, MarkovChain,\n",
    "                        proposals, updaters, constraints, accept, Election)\n",
    "from gerrychain.proposals import recom, propose_random_flip\n",
    "from gerrychain.tree import recursive_tree_part\n",
    "from gerrychain.metrics import mean_median, efficiency_gap, polsby_popper, partisan_gini\n",
    "from functools import (partial, reduce)\n",
    "import pandas\n",
    "import geopandas as gp\n",
    "import numpy as np\n",
    "import networkx as nx\n",
    "import pickle\n",
    "import seaborn as sns\n",
    "import pprint\n",
    "import operator\n",
    "import scipy\n",
    "from sklearn.decomposition import PCA\n",
    "from sklearn.preprocessing import scale, normalize\n",
    "import random\n",
    "from nltk.util import bigrams\n",
    "from nltk.probability import FreqDist\n",
    "from gingleator import Gingleator"
   ]
  },
  {
   "cell_type": "code",
   "execution_count": 2,
   "metadata": {},
   "outputs": [],
   "source": [
    "## This function takes a name of a shapefile and returns a tuple of the graph\n",
    "## and its associated dataframe\n",
    "def build_graph(filename):\n",
    "    print(\"Pulling in Graph from Shapefile: \" + filename)\n",
    "    graph = Graph.from_file(filename)\n",
    "    df = gp.read_file(filename)\n",
    "    return(graph, df)"
   ]
  },
  {
   "cell_type": "code",
   "execution_count": 10,
   "metadata": {},
   "outputs": [],
   "source": [
    "## Set up PA enacted\n",
    "graph_PA = pickle.load(open(\"PA_graph.p\", \"rb\"))\n",
    "df_PA = pickle.load(open(\"PA_df.p\", \"rb\"))\n",
    "\n",
    "PA_updaters = {\"population\": updaters.Tally(\"TOT_POP\", alias=\"population\"),\n",
    "               \"bvap\": updaters.Tally(\"BLACK_POP\", alias=\"bvap\"),\n",
    "               \"vap\": updaters.Tally(\"VAP\", alias=\"vap\"),\n",
    "               \"bvap_prec\": lambda part: {k: part[\"bvap\"][k] / part[\"population\"][k] for k in part[\"bvap\"]}}\n",
    "\n",
    "PA_enacted_senate = GeographicPartition(graph_PA, assignment=\"SSD\", \n",
    "                                     updaters=PA_updaters)"
   ]
  },
  {
   "cell_type": "code",
   "execution_count": 4,
   "metadata": {},
   "outputs": [],
   "source": [
    "total_population_PA = sum(df_PA.TOT_POP.values)\n",
    "ideal_population_PA = total_population_PA / 50"
   ]
  },
  {
   "cell_type": "code",
   "execution_count": 5,
   "metadata": {},
   "outputs": [],
   "source": [
    "seed_part_senate = recursive_tree_part(graph_PA, range(50), pop_col=\"TOT_POP\",\n",
    "                                pop_target=ideal_population_PA,\n",
    "                                epsilon=0.01, node_repeats=1)\n",
    "PA_seed_seante = GeographicPartition(graph_PA, assignment=seed_part_senate,updaters=PA_updaters)"
   ]
  },
  {
   "cell_type": "code",
   "execution_count": 6,
   "metadata": {},
   "outputs": [
    {
     "name": "stdout",
     "output_type": "stream",
     "text": [
      "Pulling in Graph from Shapefile: AR_shape/AR.shp\n"
     ]
    }
   ],
   "source": [
    "## Set up AR\n",
    "graph_AR, df_AR = build_graph(\"AR_shape/AR.shp\")\n",
    "\n",
    "AR_updaters = {\"population\": updaters.Tally(\"TOTPOP\", alias=\"population\"),\n",
    "               \"bvap\": updaters.Tally(\"BVAP\", alias=\"bvap\"),\n",
    "               \"vap\": updaters.Tally(\"VAP\", alias=\"vap\"),\n",
    "               \"bvap_prec\": lambda part: {k: part[\"bvap\"][k] / part[\"vap\"][k]\n",
    "                                          for k in part[\"bvap\"]}}\n",
    "\n",
    "AR_enacted_senate = GeographicPartition(graph_AR, assignment=\"SSD\", updaters=AR_updaters)"
   ]
  },
  {
   "cell_type": "code",
   "execution_count": 7,
   "metadata": {},
   "outputs": [],
   "source": [
    "total_population_AR = sum(df_AR.TOTPOP.values)\n",
    "ideal_population_AR = total_population_AR / 35"
   ]
  },
  {
   "cell_type": "code",
   "execution_count": 8,
   "metadata": {},
   "outputs": [],
   "source": [
    "senate_seed = recursive_tree_part(graph_AR, range(35), pop_col=\"TOTPOP\",\n",
    "                                pop_target=ideal_population_AR,\n",
    "                                epsilon=0.01, node_repeats=1)\n",
    "AR_seed_senate = GeographicPartition(graph_AR, assignment=senate_seed,updaters=AR_updaters)"
   ]
  },
  {
   "cell_type": "code",
   "execution_count": 14,
   "metadata": {},
   "outputs": [
    {
     "data": {
      "text/plain": [
       "4"
      ]
     },
     "execution_count": 14,
     "metadata": {},
     "output_type": "execute_result"
    }
   ],
   "source": [
    "Gingleator.num_opportunity_dists(PA_enacted_senate, \"bvap_prec\", 0.4)"
   ]
  },
  {
   "cell_type": "code",
   "execution_count": 15,
   "metadata": {},
   "outputs": [
    {
     "data": {
      "text/plain": [
       "3"
      ]
     },
     "execution_count": 15,
     "metadata": {},
     "output_type": "execute_result"
    }
   ],
   "source": [
    "Gingleator.num_opportunity_dists(PA_seed_seante, \"bvap_prec\", 0.4)"
   ]
  },
  {
   "cell_type": "code",
   "execution_count": 16,
   "metadata": {},
   "outputs": [
    {
     "data": {
      "text/plain": [
       "3"
      ]
     },
     "execution_count": 16,
     "metadata": {},
     "output_type": "execute_result"
    }
   ],
   "source": [
    "Gingleator.num_opportunity_dists(AR_seed_senate, \"bvap_prec\", 0.4)"
   ]
  },
  {
   "cell_type": "code",
   "execution_count": null,
   "metadata": {},
   "outputs": [],
   "source": []
  },
  {
   "cell_type": "markdown",
   "metadata": {},
   "source": [
    "## Reprojections onto the line"
   ]
  },
  {
   "cell_type": "code",
   "execution_count": 33,
   "metadata": {},
   "outputs": [],
   "source": [
    "def transition_frequencies(observations):\n",
    "    observations = observations.astype(int)\n",
    "    dim = observations.max()\n",
    "    \n",
    "    seen_bigrams = []\n",
    "    for row in observations:\n",
    "        seen_bigrams.extend(bigrams(row))\n",
    "    fdist = FreqDist(seen_bigrams)\n",
    "    \n",
    "    probs = np.zeros((dim, dim))\n",
    "    for k, v in fdist.items():\n",
    "        probs[k[0]-1][k[1]-1] = v\n",
    "    probs = normalize(probs, norm=\"l1\")\n",
    "    return probs"
   ]
  },
  {
   "cell_type": "code",
   "execution_count": 34,
   "metadata": {},
   "outputs": [],
   "source": [
    "def rand_walk_graph(transition_frequencies):\n",
    "    G = nx.from_numpy_array(transition_frequencies, create_using=nx.DiGraph)\n",
    "    mapping = {n: n+1 for n in G.nodes}\n",
    "    G = nx.relabel_nodes(G, mapping)\n",
    "    return G"
   ]
  },
  {
   "cell_type": "code",
   "execution_count": 35,
   "metadata": {},
   "outputs": [],
   "source": [
    "def edge_weights(G, prec=4):\n",
    "    return dict([((u,v,), round(d['weight'],prec)) for u,v,d in G.edges(data=True)])"
   ]
  },
  {
   "cell_type": "code",
   "execution_count": 54,
   "metadata": {},
   "outputs": [],
   "source": [
    "PA_gingles = Gingleator(PA_seed_seante, pop_col=\"TOT_POP\", minority_prec_col=\"bvap_prec\",\n",
    "                        epsilon=0.1)"
   ]
  },
  {
   "cell_type": "code",
   "execution_count": 55,
   "metadata": {},
   "outputs": [],
   "source": [
    "AR_gingles = Gingleator(AR_seed_senate, pop_col=\"TOTPOP\", minority_prec_col=\"bvap_prec\",\n",
    "                        epsilon=0.1)"
   ]
  },
  {
   "cell_type": "markdown",
   "metadata": {},
   "source": [
    "#### PA random walk graph"
   ]
  },
  {
   "cell_type": "code",
   "execution_count": null,
   "metadata": {},
   "outputs": [],
   "source": [
    "_, PA_observations = PA_gingles.short_burst_run(num_bursts=200, num_steps=25)"
   ]
  },
  {
   "cell_type": "code",
   "execution_count": 46,
   "metadata": {},
   "outputs": [],
   "source": [
    "PA_trans = transition_frequencies(PA_observations)"
   ]
  },
  {
   "cell_type": "code",
   "execution_count": 47,
   "metadata": {},
   "outputs": [],
   "source": [
    "PA_rand_walk = rand_walk_graph(PA_trans)"
   ]
  },
  {
   "cell_type": "code",
   "execution_count": 48,
   "metadata": {},
   "outputs": [
    {
     "data": {
      "text/plain": [
       "{(3, 3): 0.9945,\n",
       " (3, 4): 0.0055,\n",
       " (4, 3): 0.0299,\n",
       " (4, 4): 0.9669,\n",
       " (4, 5): 0.0032,\n",
       " (5, 4): 0.0641,\n",
       " (5, 5): 0.9359}"
      ]
     },
     "execution_count": 48,
     "metadata": {},
     "output_type": "execute_result"
    }
   ],
   "source": [
    "edge_weights(PA_rand_walk)"
   ]
  },
  {
   "cell_type": "markdown",
   "metadata": {},
   "source": [
    "#### AR random walk graph"
   ]
  },
  {
   "cell_type": "code",
   "execution_count": 41,
   "metadata": {},
   "outputs": [],
   "source": [
    "_, AR_observations = AR_gingles.short_burst_run(num_bursts=500, num_steps=10)"
   ]
  },
  {
   "cell_type": "code",
   "execution_count": 43,
   "metadata": {},
   "outputs": [],
   "source": [
    "AR_trans = transition_frequencies(AR_observations)"
   ]
  },
  {
   "cell_type": "code",
   "execution_count": 44,
   "metadata": {},
   "outputs": [],
   "source": [
    "AR_rand_walk = rand_walk_graph(AR_trans)"
   ]
  },
  {
   "cell_type": "code",
   "execution_count": 45,
   "metadata": {},
   "outputs": [
    {
     "data": {
      "text/plain": [
       "{(2, 2): 0.9375,\n",
       " (2, 3): 0.0625,\n",
       " (3, 2): 0.0095,\n",
       " (3, 3): 0.9701,\n",
       " (3, 4): 0.0204,\n",
       " (4, 3): 0.0475,\n",
       " (4, 4): 0.9525}"
      ]
     },
     "execution_count": 45,
     "metadata": {},
     "output_type": "execute_result"
    }
   ],
   "source": [
    "edge_weights(AR_rand_walk)"
   ]
  },
  {
   "cell_type": "markdown",
   "metadata": {},
   "source": [
    "## Distribution of Observations"
   ]
  },
  {
   "cell_type": "code",
   "execution_count": 52,
   "metadata": {},
   "outputs": [],
   "source": [
    "_, PA_unbiased_run = PA_gingles.short_burst_run(num_bursts=1, num_steps=100)"
   ]
  },
  {
   "cell_type": "code",
   "execution_count": 53,
   "metadata": {},
   "outputs": [
    {
     "data": {
      "text/plain": [
       "array([[3., 3., 3., 3., 3., 3., 3., 3., 3., 3., 3., 3., 3., 3., 3., 3.,\n",
       "        3., 3., 3., 3., 3., 3., 3., 3., 3., 3., 3., 3., 3., 3., 3., 2.,\n",
       "        2., 2., 2., 2., 2., 2., 2., 2., 2., 2., 2., 2., 2., 2., 2., 2.,\n",
       "        2., 2., 2., 2., 2., 2., 2., 2., 2., 2., 2., 2., 2., 2., 2., 2.,\n",
       "        2., 2., 2., 2., 2., 2., 2., 2., 2., 2., 2., 2., 2., 2., 2., 3.,\n",
       "        3., 3., 3., 3., 3., 3., 3., 3., 3., 3., 3., 3., 3., 3., 3., 3.,\n",
       "        3., 3., 3., 3.]])"
      ]
     },
     "execution_count": 53,
     "metadata": {},
     "output_type": "execute_result"
    }
   ],
   "source": [
    "PA_unbiased_run"
   ]
  },
  {
   "cell_type": "code",
   "execution_count": null,
   "metadata": {},
   "outputs": [],
   "source": []
  }
 ],
 "metadata": {
  "kernelspec": {
   "display_name": "Python 3",
   "language": "python",
   "name": "python3"
  },
  "language_info": {
   "codemirror_mode": {
    "name": "ipython",
    "version": 3
   },
   "file_extension": ".py",
   "mimetype": "text/x-python",
   "name": "python",
   "nbconvert_exporter": "python",
   "pygments_lexer": "ipython3",
   "version": "3.6.7"
  }
 },
 "nbformat": 4,
 "nbformat_minor": 2
}

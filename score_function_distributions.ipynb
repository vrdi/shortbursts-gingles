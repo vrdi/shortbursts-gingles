{
 "cells": [
  {
   "cell_type": "code",
   "execution_count": 1,
   "metadata": {},
   "outputs": [],
   "source": [
    "import matplotlib.pyplot as plt\n",
    "from gerrychain import (GeographicPartition, Partition, Graph, MarkovChain,\n",
    "                        proposals, updaters, constraints, accept, Election)\n",
    "from gerrychain.proposals import recom, propose_random_flip\n",
    "from gerrychain.tree import recursive_tree_part\n",
    "from gerrychain.metrics import mean_median, efficiency_gap, polsby_popper, partisan_gini\n",
    "from functools import (partial, reduce)\n",
    "import pandas\n",
    "import geopandas as gp\n",
    "import numpy as np\n",
    "import networkx as nx\n",
    "import pickle\n",
    "import seaborn as sns\n",
    "import pprint\n",
    "import operator\n",
    "import scipy\n",
    "from sklearn.decomposition import PCA\n",
    "from sklearn.preprocessing import scale, normalize\n",
    "import random\n",
    "from nltk.util import bigrams\n",
    "from nltk.probability import FreqDist\n",
    "from gingleator import Gingleator\n",
    "from numpy.random import randn\n",
    "from scipy.stats import norm, probplot"
   ]
  },
  {
   "cell_type": "code",
   "execution_count": 2,
   "metadata": {},
   "outputs": [],
   "source": [
    "## Set up AR\n",
    "graph_AR = pickle.load(open(\"graph_AR.p\", \"rb\"))\n",
    "df_AR = pickle.load(open(\"df_AR.p\", \"rb\"))\n",
    "\n",
    "AR_updaters = {\"population\": updaters.Tally(\"TOTPOP\", alias=\"population\"),\n",
    "               \"bvap\": updaters.Tally(\"BVAP\", alias=\"bvap\"),\n",
    "               \"vap\": updaters.Tally(\"VAP\", alias=\"vap\"),\n",
    "               \"bvap_prec\": lambda part: {k: part[\"bvap\"][k] / part[\"vap\"][k]\n",
    "                                          for k in part[\"bvap\"]}}\n",
    "\n",
    "AR_enacted_senate = GeographicPartition(graph_AR, assignment=\"SSD\", updaters=AR_updaters)"
   ]
  },
  {
   "cell_type": "code",
   "execution_count": 3,
   "metadata": {},
   "outputs": [],
   "source": [
    "total_population_AR = sum(df_AR.TOTPOP.values)\n",
    "ideal_population_AR = total_population_AR / 35"
   ]
  },
  {
   "cell_type": "code",
   "execution_count": 4,
   "metadata": {},
   "outputs": [],
   "source": [
    "senate_seed = recursive_tree_part(graph_AR, range(35), pop_col=\"TOTPOP\",\n",
    "                                pop_target=ideal_population_AR,\n",
    "                                epsilon=0.01, node_repeats=1)\n",
    "AR_seed_senate = GeographicPartition(graph_AR, assignment=senate_seed,updaters=AR_updaters)"
   ]
  },
  {
   "cell_type": "code",
   "execution_count": 5,
   "metadata": {},
   "outputs": [
    {
     "data": {
      "text/plain": [
       "3"
      ]
     },
     "execution_count": 5,
     "metadata": {},
     "output_type": "execute_result"
    }
   ],
   "source": [
    "Gingleator.num_opportunity_dists(AR_seed_senate, \"bvap_prec\", 0.4)"
   ]
  },
  {
   "cell_type": "code",
   "execution_count": 6,
   "metadata": {},
   "outputs": [
    {
     "data": {
      "text/plain": [
       "3.371373070863733"
      ]
     },
     "execution_count": 6,
     "metadata": {},
     "output_type": "execute_result"
    }
   ],
   "source": [
    "Gingleator.reward_partial_dist(AR_seed_senate, \"bvap_prec\", 0.4)"
   ]
  },
  {
   "cell_type": "code",
   "execution_count": 7,
   "metadata": {},
   "outputs": [
    {
     "data": {
      "text/plain": [
       "3.71373070863733"
      ]
     },
     "execution_count": 7,
     "metadata": {},
     "output_type": "execute_result"
    }
   ],
   "source": [
    "Gingleator.reward_next_highest_close(AR_seed_senate, \"bvap_prec\", 0.4)"
   ]
  },
  {
   "cell_type": "code",
   "execution_count": 11,
   "metadata": {},
   "outputs": [],
   "source": [
    "AR_gingles_partial = Gingleator(AR_seed_senate, pop_col=\"TOTPOP\", minority_prec_col=\"bvap_prec\",\n",
    "                                epsilon=0.1, score_funct=Gingleator.reward_partial_dist)"
   ]
  },
  {
   "cell_type": "code",
   "execution_count": 12,
   "metadata": {},
   "outputs": [],
   "source": [
    "AR_gingles_num = Gingleator(AR_seed_senate, pop_col=\"TOTPOP\", minority_prec_col=\"bvap_prec\",\n",
    "                            epsilon=0.1)"
   ]
  },
  {
   "cell_type": "code",
   "execution_count": 8,
   "metadata": {},
   "outputs": [],
   "source": [
    "AR_gingles_cont = Gingleator(AR_seed_senate, pop_col=\"TOTPOP\", minority_prec_col=\"bvap_prec\",\n",
    "                            epsilon=0.1, score_funct=Gingleator.reward_next_highest_close)"
   ]
  },
  {
   "cell_type": "code",
   "execution_count": 13,
   "metadata": {},
   "outputs": [],
   "source": [
    "_, AR_observations_partial = AR_gingles_partial.short_burst_run(num_bursts=100, num_steps=10)"
   ]
  },
  {
   "cell_type": "code",
   "execution_count": 14,
   "metadata": {},
   "outputs": [],
   "source": [
    "_, AR_observations_num = AR_gingles_num.short_burst_run(num_bursts=100, num_steps=10)"
   ]
  },
  {
   "cell_type": "code",
   "execution_count": 10,
   "metadata": {},
   "outputs": [],
   "source": [
    "_, AR_observations_cont = AR_gingles_cont.short_burst_run(num_bursts=100, num_steps=10)"
   ]
  },
  {
   "cell_type": "code",
   "execution_count": 17,
   "metadata": {},
   "outputs": [
    {
     "data": {
      "image/png": "[encoded data removed]",
      "text/plain": [
       "<Figure size 432x288 with 1 Axes>"
      ]
     },
     "metadata": {
      "needs_background": "light"
     },
     "output_type": "display_data"
    }
   ],
   "source": [
    "plt.figure()\n",
    "sns.distplot(AR_observations_num.flatten(), bins=10, kde=False, label=\"Num\")\n",
    "sns.distplot(AR_observations_partial.flatten(), bins=10, kde=False, label=\"Partial\")\n",
    "sns.distplot(AR_observations_cont.flatten(), bins=10, kde=False, label=\"Cont\")\n",
    "plt.legend()\n",
    "plt.show()"
   ]
  },
  {
   "cell_type": "code",
   "execution_count": 21,
   "metadata": {},
   "outputs": [
    {
     "data": {
      "text/plain": [
       "<matplotlib.axes._subplots.AxesSubplot at 0x7fb96593dcf8>"
      ]
     },
     "execution_count": 21,
     "metadata": {},
     "output_type": "execute_result"
    },
    {
     "data": {
      "image/png": "[encoded data removed]",
      "text/plain": [
       "<Figure size 432x288 with 1 Axes>"
      ]
     },
     "metadata": {
      "needs_background": "light"
     },
     "output_type": "display_data"
    }
   ],
   "source": [
    "sns.distplot(AR_observations_cont.flatten(), bins=100, kde=False, label=\"Cont\")\n"
   ]
  },
  {
   "cell_type": "code",
   "execution_count": 24,
   "metadata": {},
   "outputs": [
    {
     "data": {
      "text/plain": [
       "array([[3.71373071, 3.82533371, 3.82533371, 3.82533371, 3.82533371,\n",
       "        3.82533371, 3.82533371, 3.82533371, 3.82533371, 3.82533371],\n",
       "       [3.82533371, 3.82533371, 3.82533371, 3.82533371, 3.82533371,\n",
       "        3.82533371, 3.82533371, 3.82533371, 3.82533371, 3.82533371],\n",
       "       [3.82533371, 3.82533371, 3.82533371, 3.82533371, 3.82533371,\n",
       "        2.82533371, 2.82533371, 2.82533371, 2.82533371, 2.82533371],\n",
       "       [3.82533371, 3.82533371, 3.82533371, 3.82533371, 3.82533371,\n",
       "        3.82533371, 3.82533371, 3.82533371, 3.82533371, 3.82533371],\n",
       "       [3.82533371, 3.82533371, 3.82533371, 3.57625611, 3.57625611,\n",
       "        3.57625611, 3.57625611, 3.57625611, 3.57625611, 3.57625611],\n",
       "       [3.82533371, 3.82533371, 3.82533371, 3.82533371, 3.82533371,\n",
       "        3.82533371, 3.82533371, 3.82533371, 3.82533371, 3.82533371],\n",
       "       [3.82533371, 3.82533371, 3.82533371, 3.82533371, 3.82533371,\n",
       "        3.82533371, 3.82533371, 3.82533371, 3.82533371, 3.82533371],\n",
       "       [3.82533371, 3.82533371, 3.82533371, 3.82533371, 3.82533371,\n",
       "        3.82533371, 3.82533371, 3.82533371, 3.82533371, 2.82533371],\n",
       "       [3.82533371, 3.82533371, 3.82533371, 3.82533371, 3.82533371,\n",
       "        3.82533371, 3.82533371, 2.82533371, 2.82533371, 2.82533371],\n",
       "       [3.82533371, 3.82533371, 3.82533371, 3.82533371, 3.82533371,\n",
       "        3.82533371, 3.82533371, 3.82533371, 3.82533371, 3.82533371],\n",
       "       [3.82533371, 3.82533371, 3.82533371, 3.82533371, 3.82533371,\n",
       "        3.82533371, 3.82533371, 3.82533371, 3.82533371, 3.82533371],\n",
       "       [3.82533371, 3.82533371, 3.82533371, 3.82533371, 3.82533371,\n",
       "        3.82533371, 3.82533371, 3.82533371, 3.78056095, 3.78056095],\n",
       "       [3.82533371, 3.82533371, 3.82533371, 3.82533371, 4.64605317,\n",
       "        4.64605317, 4.64605317, 4.64605317, 4.64605317, 4.64605317],\n",
       "       [4.64605317, 4.64605317, 4.64605317, 4.64605317, 4.64605317,\n",
       "        4.64605317, 4.64605317, 4.64605317, 4.64605317, 4.64605317],\n",
       "       [4.64605317, 4.64605317, 4.64605317, 4.64605317, 4.5874013 ,\n",
       "        4.5874013 , 4.5874013 , 4.5874013 , 4.5874013 , 4.5874013 ],\n",
       "       [4.64605317, 4.64605317, 4.64605317, 4.61307918, 4.61307918,\n",
       "        4.61307918, 4.61307918, 4.61307918, 4.61307918, 4.61307918],\n",
       "       [4.64605317, 4.64605317, 4.64605317, 4.64605317, 4.64605317,\n",
       "        4.64605317, 4.64605317, 4.64605317, 4.64605317, 4.64605317],\n",
       "       [4.64605317, 4.59314432, 4.59314432, 4.59314432, 4.59314432,\n",
       "        4.59314432, 4.59314432, 4.59314432, 4.59314432, 4.59314432],\n",
       "       [4.64605317, 4.64605317, 4.64605317, 4.64605317, 4.64605317,\n",
       "        4.64605317, 4.64605317, 4.64605317, 4.64605317, 4.25089169],\n",
       "       [4.64605317, 4.64605317, 4.64605317, 4.64605317, 4.64605317,\n",
       "        4.58160926, 4.58160926, 4.58160926, 4.58160926, 4.58160926],\n",
       "       [4.64605317, 4.64605317, 4.64605317, 4.64605317, 4.64605317,\n",
       "        4.64605317, 4.64605317, 4.64605317, 4.64605317, 4.64605317],\n",
       "       [4.64605317, 4.64605317, 4.64654435, 4.64654435, 4.64654435,\n",
       "        4.64654435, 4.64654435, 4.64654435, 4.64654435, 4.64654435],\n",
       "       [4.64654435, 4.64654435, 4.64654435, 4.64654435, 3.65184127,\n",
       "        3.65184127, 3.65184127, 3.65184127, 3.65184127, 3.65184127],\n",
       "       [4.64654435, 4.64654435, 4.64654435, 4.64654435, 4.64654435,\n",
       "        4.64654435, 4.64654435, 4.64654435, 4.64654435, 4.64654435],\n",
       "       [4.64654435, 4.64654435, 4.31285037, 4.31285037, 4.31285037,\n",
       "        4.31285037, 4.33818527, 4.33818527, 4.33818527, 4.33818527],\n",
       "       [4.64654435, 4.64654435, 4.98308093, 4.98308093, 4.98308093,\n",
       "        4.98308093, 4.98308093, 4.98308093, 4.98308093, 4.98308093],\n",
       "       [4.98308093, 4.98308093, 4.98308093, 4.98308093, 4.98308093,\n",
       "        4.98308093, 4.98308093, 4.98308093, 3.98308093, 3.98308093],\n",
       "       [4.98308093, 4.98308093, 4.98308093, 4.98308093, 4.98308093,\n",
       "        4.98308093, 3.98308093, 3.98308093, 3.98308093, 3.98308093],\n",
       "       [4.98308093, 4.98308093, 4.98308093, 4.34155275, 4.34155275,\n",
       "        4.34155275, 4.34155275, 4.24988417, 4.24988417, 4.24988417],\n",
       "       [4.98308093, 4.42611556, 4.42611556, 3.66716105, 3.66716105,\n",
       "        3.66716105, 3.66716105, 3.66716105, 3.66716105, 3.66716105],\n",
       "       [4.98308093, 4.98308093, 4.98308093, 4.98308093, 4.98308093,\n",
       "        4.98308093, 5.34155275, 5.34155275, 5.34155275, 5.34155275],\n",
       "       [5.34155275, 5.34155275, 5.34155275, 5.34155275, 5.34155275,\n",
       "        5.34155275, 5.34155275, 5.34155275, 5.34155275, 5.34155275],\n",
       "       [5.34155275, 5.34155275, 5.34155275, 5.34155275, 5.34155275,\n",
       "        5.34155275, 5.34155275, 5.34155275, 5.34155275, 4.99650545],\n",
       "       [5.34155275, 5.34155275, 5.34155275, 5.34155275, 5.4087818 ,\n",
       "        5.4087818 , 5.4087818 , 5.4087818 , 5.4087818 , 5.4087818 ],\n",
       "       [5.4087818 , 5.4087818 , 5.4087818 , 5.4087818 , 5.4087818 ,\n",
       "        5.4087818 , 5.4087818 , 5.4087818 , 5.34155275, 5.34155275],\n",
       "       [5.4087818 , 5.34155275, 4.43804935, 4.43804935, 4.43804935,\n",
       "        3.85079402, 3.85079402, 3.85079402, 3.85079402, 3.85079402],\n",
       "       [5.4087818 , 5.4087818 , 5.4087818 , 5.4087818 , 5.4087818 ,\n",
       "        5.4087818 , 5.4087818 , 5.4087818 , 4.4087818 , 4.4087818 ],\n",
       "       [5.4087818 , 5.4087818 , 5.4087818 , 5.4087818 , 5.4087818 ,\n",
       "        5.4087818 , 5.4087818 , 5.4087818 , 5.4087818 , 4.70224099],\n",
       "       [5.4087818 , 5.4087818 , 5.4087818 , 5.4087818 , 5.4087818 ,\n",
       "        5.4087818 , 5.4087818 , 5.4087818 , 5.4087818 , 5.4087818 ],\n",
       "       [5.4087818 , 5.4087818 , 5.34155275, 4.9522713 , 4.9522713 ,\n",
       "        4.9522713 , 4.9522713 , 3.9522713 , 3.9522713 , 3.9522713 ],\n",
       "       [5.4087818 , 5.4087818 , 5.4087818 , 4.4087818 , 4.38684066,\n",
       "        4.38684066, 4.38684066, 4.38684066, 4.38684066, 4.38684066],\n",
       "       [5.4087818 , 5.4087818 , 5.4087818 , 5.4087818 , 5.4087818 ,\n",
       "        4.4087818 , 4.4087818 , 4.4087818 , 4.4087818 , 4.4087818 ],\n",
       "       [5.4087818 , 5.4087818 , 4.60776459, 4.60776459, 4.60776459,\n",
       "        4.60776459, 4.60776459, 4.60776459, 4.60776459, 4.60776459],\n",
       "       [5.4087818 , 5.4087818 , 5.4087818 , 5.4087818 , 5.4087818 ,\n",
       "        4.88130235, 4.88130235, 4.88130235, 4.88130235, 4.88130235],\n",
       "       [5.4087818 , 5.4087818 , 5.4087818 , 5.4087818 , 5.4087818 ,\n",
       "        5.4087818 , 5.4087818 , 5.4087818 , 5.4087818 , 5.4087818 ],\n",
       "       [5.4087818 , 5.4087818 , 5.4087818 , 5.4087818 , 5.4087818 ,\n",
       "        5.4087818 , 5.4087818 , 5.4087818 , 5.4087818 , 5.4087818 ],\n",
       "       [5.4087818 , 5.4087818 , 5.4087818 , 5.4087818 , 5.43093317,\n",
       "        5.43093317, 5.43093317, 5.43093317, 5.43093317, 5.43093317],\n",
       "       [5.43093317, 5.43093317, 5.43093317, 5.43093317, 5.43093317,\n",
       "        5.43093317, 4.66957551, 4.66957551, 4.66957551, 4.66957551],\n",
       "       [5.43093317, 5.43093317, 5.43093317, 5.43093317, 5.43093317,\n",
       "        4.43093317, 4.43093317, 4.43093317, 4.43093317, 4.43093317],\n",
       "       [5.43093317, 5.43093317, 5.43093317, 5.43093317, 5.43093317,\n",
       "        4.98312099, 4.98312099, 4.98312099, 5.98312099, 5.98312099],\n",
       "       [5.98312099, 4.98312099, 4.98312099, 4.98312099, 4.98312099,\n",
       "        4.98312099, 4.98312099, 4.98312099, 4.98312099, 4.98312099],\n",
       "       [5.98312099, 4.98312099, 4.98312099, 4.98312099, 4.98312099,\n",
       "        4.98312099, 4.98312099, 3.98312099, 3.98312099, 2.98312099],\n",
       "       [5.98312099, 5.98312099, 5.98312099, 4.98312099, 4.98312099,\n",
       "        4.98312099, 4.98312099, 4.98312099, 4.98312099, 4.98312099],\n",
       "       [5.98312099, 5.98312099, 5.98312099, 5.98312099, 5.98312099,\n",
       "        5.9026279 , 5.9026279 , 4.9026279 , 4.9026279 , 4.9026279 ],\n",
       "       [5.98312099, 5.98312099, 5.55769405, 5.55769405, 5.55769405,\n",
       "        5.55769405, 5.55769405, 5.55769405, 4.99402976, 3.99402976],\n",
       "       [5.98312099, 5.98312099, 5.98312099, 5.98312099, 5.98312099,\n",
       "        5.98312099, 5.98312099, 5.98312099, 5.98312099, 5.98312099],\n",
       "       [5.98312099, 4.98312099, 4.98312099, 4.98312099, 4.98312099,\n",
       "        4.98312099, 4.98312099, 4.98312099, 4.92106274, 4.92106274],\n",
       "       [5.98312099, 5.98312099, 5.98312099, 5.98312099, 5.98312099,\n",
       "        5.98312099, 5.98312099, 5.98312099, 5.98312099, 5.98312099],\n",
       "       [5.98312099, 5.98312099, 5.98578915, 5.98578915, 5.98578915,\n",
       "        5.98578915, 6.        , 5.34411488, 5.34411488, 5.34411488],\n",
       "       [6.        , 6.        , 6.        , 6.        , 6.        ,\n",
       "        6.        , 6.        , 6.        , 6.        , 5.29444798],\n",
       "       [6.        , 6.        , 6.        , 6.        , 6.        ,\n",
       "        6.        , 6.        , 6.        , 6.        , 6.        ],\n",
       "       [6.        , 6.        , 6.        , 6.        , 6.        ,\n",
       "        5.90502871, 5.90502871, 5.90502871, 5.90502871, 5.90502871],\n",
       "       [6.        , 6.        , 5.57304234, 4.98510958, 4.98510958,\n",
       "        4.98510958, 4.98510958, 4.98510958, 4.98510958, 4.98510958],\n",
       "       [6.        , 5.99265286, 5.99265286, 5.99265286, 5.99265286,\n",
       "        5.99265286, 5.99265286, 5.99265286, 5.99265286, 5.92970369],\n",
       "       [6.        , 6.        , 6.        , 6.        , 5.97556808,\n",
       "        5.97556808, 5.97556808, 4.97556808, 4.97556808, 4.97556808],\n",
       "       [6.        , 6.        , 6.38151898, 6.38151898, 6.38151898,\n",
       "        6.38151898, 6.38151898, 6.38151898, 6.38151898, 6.38151898],\n",
       "       [6.38151898, 6.38151898, 6.38151898, 6.38151898, 6.38151898,\n",
       "        6.38151898, 6.38151898, 6.38151898, 6.38151898, 6.38151898],\n",
       "       [6.38151898, 6.38151898, 6.38151898, 6.38151898, 6.38151898,\n",
       "        6.38151898, 6.38151898, 6.38151898, 6.38151898, 6.38151898],\n",
       "       [6.38151898, 5.62799863, 5.62799863, 4.62799863, 5.38151898,\n",
       "        5.38151898, 5.38151898, 5.38151898, 5.38151898, 5.38151898],\n",
       "       [6.38151898, 6.38151898, 6.38151898, 5.95886971, 5.95886971,\n",
       "        5.95886971, 5.95886971, 5.95886971, 5.95886971, 5.95886971],\n",
       "       [6.38151898, 6.38151898, 6.38151898, 5.63897518, 5.38151898,\n",
       "        5.38151898, 5.38151898, 4.44294508, 4.44294508, 4.44294508],\n",
       "       [6.38151898, 6.38151898, 5.67323816, 5.67323816, 5.67323816,\n",
       "        5.67323816, 5.67323816, 5.67323816, 4.67645653, 4.67645653],\n",
       "       [6.38151898, 6.38151898, 6.38151898, 6.38151898, 6.38151898,\n",
       "        6.38151898, 6.38151898, 6.        , 6.        , 6.41939801],\n",
       "       [6.41939801, 6.23401349, 6.        , 6.        , 6.        ,\n",
       "        6.        , 5.84855351, 5.84855351, 5.84855351, 5.84855351],\n",
       "       [6.41939801, 6.41939801, 6.41939801, 6.41939801, 6.41939801,\n",
       "        6.41939801, 6.41939801, 6.41939801, 6.41939801, 6.41939801],\n",
       "       [6.41939801, 5.81796214, 6.31585116, 6.31585116, 5.38762503,\n",
       "        5.38762503, 5.38762503, 5.38762503, 5.38762503, 5.38762503],\n",
       "       [6.41939801, 6.41939801, 6.41939801, 6.41939801, 6.41939801,\n",
       "        5.85128541, 5.85128541, 4.87409161, 4.87409161, 4.87409161],\n",
       "       [6.41939801, 6.41939801, 5.899932  , 5.899932  , 5.899932  ,\n",
       "        5.899932  , 4.899932  , 4.899932  , 4.899932  , 4.899932  ],\n",
       "       [6.41939801, 5.96235006, 5.96235006, 5.96235006, 5.96235006,\n",
       "        5.96235006, 5.96235006, 5.96235006, 4.96235006, 4.96235006],\n",
       "       [6.41939801, 6.41939801, 6.41939801, 6.41939801, 6.41939801,\n",
       "        6.41939801, 6.41939801, 6.41939801, 6.41939801, 6.41939801],\n",
       "       [6.41939801, 6.41939801, 6.41939801, 5.41939801, 5.41939801,\n",
       "        4.81508541, 4.81508541, 4.81508541, 4.81508541, 4.81508541],\n",
       "       [6.41939801, 6.41939801, 6.41939801, 6.41939801, 6.41939801,\n",
       "        6.41939801, 6.41939801, 6.21141337, 6.21141337, 6.21141337],\n",
       "       [6.41939801, 6.12973126, 6.35832197, 5.88269777, 5.88269777,\n",
       "        5.88269777, 5.88269777, 5.88269777, 5.88269777, 5.88269777],\n",
       "       [6.41939801, 5.82663881, 5.82663881, 5.82663881, 5.82663881,\n",
       "        5.82663881, 5.82663881, 5.76188026, 5.76188026, 5.76188026],\n",
       "       [6.41939801, 5.9080082 , 5.9080082 , 5.9080082 , 5.9080082 ,\n",
       "        5.9080082 , 5.9080082 , 5.9080082 , 5.99756636, 5.99756636],\n",
       "       [6.41939801, 6.        , 6.        , 6.        , 6.        ,\n",
       "        6.        , 6.        , 6.        , 6.        , 6.        ],\n",
       "       [6.41939801, 6.41939801, 6.41939801, 6.41939801, 6.41939801,\n",
       "        6.41939801, 6.41939801, 6.41939801, 5.79811395, 5.79811395],\n",
       "       [6.41939801, 6.41939801, 6.41939801, 6.41939801, 6.41939801,\n",
       "        6.41939801, 6.41939801, 6.41939801, 6.41939801, 5.68252917],\n",
       "       [6.41939801, 5.81425736, 5.81425736, 5.81425736, 5.81425736,\n",
       "        4.81425736, 4.81425736, 4.81425736, 4.81425736, 4.81425736],\n",
       "       [6.41939801, 6.41939801, 6.41939801, 5.51670103, 5.51670103,\n",
       "        4.94326801, 4.94326801, 4.94326801, 4.94326801, 3.94326801],\n",
       "       [6.41939801, 6.41939801, 6.41939801, 6.41939801, 6.41939801,\n",
       "        5.52374672, 5.52374672, 4.52374672, 4.52374672, 4.52374672],\n",
       "       [6.41939801, 6.41939801, 5.7835913 , 5.7835913 , 5.7835913 ,\n",
       "        5.7835913 , 5.7835913 , 4.7835913 , 4.79204294, 4.79204294],\n",
       "       [6.41939801, 6.41939801, 6.11329498, 6.11329498, 6.11329498,\n",
       "        6.11329498, 6.11329498, 5.65721258, 5.65721258, 5.65721258],\n",
       "       [6.41939801, 6.        , 6.        , 5.98516765, 5.98516765,\n",
       "        5.98516765, 5.98516765, 4.98516765, 4.98516765, 4.98516765],\n",
       "       [6.41939801, 5.77839074, 5.77839074, 5.77839074, 5.77839074,\n",
       "        5.77839074, 5.77839074, 5.77839074, 5.77839074, 5.77839074],\n",
       "       [6.41939801, 6.41939801, 6.41939801, 6.41939801, 6.41939801,\n",
       "        5.72790683, 5.72790683, 5.72790683, 5.72790683, 5.72790683],\n",
       "       [6.41939801, 5.77839074, 5.77839074, 5.77839074, 5.77839074,\n",
       "        5.77839074, 5.77839074, 5.77839074, 5.77839074, 5.77839074],\n",
       "       [6.41939801, 5.80603958, 5.80603958, 5.80603958, 5.80603958,\n",
       "        5.80603958, 4.80603958, 4.80603958, 4.80603958, 3.85808929],\n",
       "       [6.41939801, 6.41939801, 6.41939801, 6.        , 5.47961688,\n",
       "        5.47961688, 4.94216561, 4.94216561, 4.94216561, 4.94216561],\n",
       "       [6.41939801, 6.41939801, 5.75789524, 5.75789524, 5.75789524,\n",
       "        5.75789524, 5.75789524, 5.75789524, 4.83328076, 4.83328076]])"
      ]
     },
     "execution_count": 24,
     "metadata": {},
     "output_type": "execute_result"
    }
   ],
   "source": [
    "AR_observations_cont"
   ]
  },
  {
   "cell_type": "code",
   "execution_count": 42,
   "metadata": {},
   "outputs": [
    {
     "data": {
      "text/plain": [
       "[<matplotlib.lines.Line2D at 0x7fa4397d05c0>]"
      ]
     },
     "execution_count": 42,
     "metadata": {},
     "output_type": "execute_result"
    },
    {
     "data": {
      "image/png": "[encoded data removed]",
      "text/plain": [
       "<Figure size 432x288 with 1 Axes>"
      ]
     },
     "metadata": {
      "needs_background": "light"
     },
     "output_type": "display_data"
    }
   ],
   "source": [
    "mu, std = norm.fit(AR_observations.flatten())\n",
    "sns.distplot(AR_observations.flatten(), bins=6, kde=False)\n",
    "sns.distplot(AR_observations.flatten(), bins=10, kde=False)\n",
    "sns.distplot(AR_observations.flatten(), bins=20, kde=False)\n",
    "sns.distplot(AR_observations.flatten(), bins=40, kde=False)\n",
    "\n",
    "xmin, xmax = plt.xlim()\n",
    "x = np.linspace(xmin, xmax, 100)\n",
    "p = norm.pdf(x, mu, std)\n",
    "plt.plot(x, p*1000, 'k', linewidth=2)"
   ]
  },
  {
   "cell_type": "code",
   "execution_count": 45,
   "metadata": {},
   "outputs": [
    {
     "data": {
      "text/plain": [
       "<matplotlib.axes._subplots.AxesSubplot at 0x7fa4392b0c88>"
      ]
     },
     "execution_count": 45,
     "metadata": {},
     "output_type": "execute_result"
    },
    {
     "data": {
      "image/png": "[encoded data removed]",
      "text/plain": [
       "<Figure size 432x288 with 1 Axes>"
      ]
     },
     "metadata": {
      "needs_background": "light"
     },
     "output_type": "display_data"
    }
   ],
   "source": [
    "sns.distplot(AR_observations.flatten(), bins=50, kde=False)"
   ]
  },
  {
   "cell_type": "code",
   "execution_count": null,
   "metadata": {},
   "outputs": [],
   "source": []
  }
 ],
 "metadata": {
  "kernelspec": {
   "display_name": "Python 3",
   "language": "python",
   "name": "python3"
  },
  "language_info": {
   "codemirror_mode": {
    "name": "ipython",
    "version": 3
   },
   "file_extension": ".py",
   "mimetype": "text/x-python",
   "name": "python",
   "nbconvert_exporter": "python",
   "pygments_lexer": "ipython3",
   "version": "3.6.7"
  }
 },
 "nbformat": 4,
 "nbformat_minor": 2
}

{
 "cells": [
  {
   "cell_type": "code",
   "execution_count": 35,
   "metadata": {},
   "outputs": [],
   "source": [
    "import matplotlib.pyplot as plt\n",
    "import pandas\n",
    "import numpy as np\n",
    "import random\n",
    "\n",
    "# gerrychain imports\n",
    "from gerrychain import (GeographicPartition, Partition, Graph, MarkovChain,\n",
    "                        proposals, updaters, constraints, accept, Election)\n",
    "from gerrychain.proposals import recom\n",
    "from gerrychain.tree import recursive_tree_part\n",
    "from gerrychain.accept import always_accept\n",
    "from gerrychain.constraints import (Validator, single_flip_contiguous,\n",
    "                                    within_percent_of_ideal_population, UpperBound)\n",
    "from functools import partial"
   ]
  },
  {
   "cell_type": "code",
   "execution_count": 36,
   "metadata": {},
   "outputs": [],
   "source": [
    "# State specific variables\n",
    "state = \"LA\" # Louisiana\n",
    "num_districts = 39 # senate districts\n",
    "data_path = \"./LA_data/LA_data.json\"\n",
    "pop_varname = \"TOTPOP\"\n",
    "bvap_varname = \"BVAP\"\n",
    "vap_varname = \"VAP\"\n",
    "num_markov_steps = 10 # in Markov chain\n",
    "OPPORTUNITY_PERCENT = 0.4"
   ]
  },
  {
   "cell_type": "code",
   "execution_count": 37,
   "metadata": {},
   "outputs": [],
   "source": [
    "# load the graph\n",
    "graph = Graph.from_json(data_path)"
   ]
  },
  {
   "cell_type": "code",
   "execution_count": 38,
   "metadata": {},
   "outputs": [],
   "source": [
    "#################################################################################\n",
    "########################## Get ideal population  ################################\n",
    "#################################################################################\n",
    "\n",
    "def get_ideal_population(graph, pop_varname, num_districts):\n",
    "    tot_pop = 0\n",
    "    for i in range(len(graph.nodes)):\n",
    "        tot_pop += graph.nodes[i][pop_varname]\n",
    "        \n",
    "    return int(tot_pop/num_districts)\n",
    "\n",
    "ideal_population = get_ideal_population(graph, pop_varname, num_districts)\n",
    "\n",
    "####################################################################################\n",
    "############################# Define the updaters ##################################\n",
    "####################################################################################\n",
    "\n",
    "def count_opportunity_districts(partition):\n",
    "    opp_percent = OPPORTUNITY_PERCENT\n",
    "    \n",
    "    num_opp_dists = 0\n",
    "    for i in range(num_districts):\n",
    "        num_bvap_percent = partition[\"bvap\"][i] / partition[\"vap\"][i]\n",
    "        \n",
    "        if num_bvap_percent >= opp_percent:\n",
    "            num_opp_dists += 1\n",
    "\n",
    "    return num_opp_dists\n",
    "\n",
    "def compute_funky_score(partition):\n",
    "    curr_bvap_list = []\n",
    "    \n",
    "    for i in range(num_districts):\n",
    "        curr_bvap_percent = partition[\"bvap\"][i] / partition[\"vap\"][i]\n",
    "        curr_bvap_list.append(curr_bvap_percent)\n",
    "    \n",
    "    curr_bvap_list = sorted(curr_bvap_list)\n",
    "    \n",
    "    curr_funky_score = 0\n",
    "    for i in range(num_districts-1,-1,-1):\n",
    "        if curr_bvap_list[i] >= OPPORTUNITY_PERCENT:\n",
    "            curr_funky_score += 1\n",
    "        else:\n",
    "            curr_funky_score += curr_bvap_list[i]\n",
    "            break\n",
    "    \n",
    "    return curr_funky_score\n",
    "\n",
    "####################################################################################\n",
    "###################### End of updater definitions ##################################\n",
    "####################################################################################\n",
    "\n",
    "updaters = {\"population\": updaters.Tally(pop_varname, alias=\"population\"),\n",
    "            \"bvap\":updaters.Tally(bvap_varname, alias='bvap'),\n",
    "            \"vap\":updaters.Tally(vap_varname, alias='vap'),\n",
    "            \"opportunity_districts\":count_opportunity_districts,\n",
    "            \"funky_score\": compute_funky_score\n",
    "           }"
   ]
  },
  {
   "cell_type": "code",
   "execution_count": 39,
   "metadata": {},
   "outputs": [],
   "source": [
    "####################################################################################\n",
    "################ Build Initial Partition and Markov Chain ##########################\n",
    "####################################################################################\n",
    "\n",
    "# assign each node to a district in a dict of the form {node: district}\n",
    "seed_partition_dict = recursive_tree_part(graph, \n",
    "                                          range(39), \n",
    "                                          pop_col=pop_varname,\n",
    "                                          pop_target=ideal_population,\n",
    "                                          epsilon=0.01, \n",
    "                                          node_repeats=1)\n",
    "\n",
    "# use the partition dictionary to build a Partition object\n",
    "seed_partition = GeographicPartition(graph, \n",
    "                                     assignment=seed_partition_dict, \n",
    "                                     updaters=updaters)\n",
    "\n",
    "## Build the Markov chain\n",
    "tree_proposal = partial(recom,\n",
    "                        pop_col=pop_varname,\n",
    "                        pop_target=ideal_population,\n",
    "                        epsilon=0.05,\n",
    "                        node_repeats=1)\n",
    "\n",
    "# Constraints\n",
    "popbound = within_percent_of_ideal_population(seed_partition, .1)\n",
    "\n",
    "####################################################################################\n",
    "###################### Define the acceptance functions #############################\n",
    "####################################################################################\n",
    "\n",
    "def increase_opportunity_districts(partition, bad_mobility_prob = 0.2):\n",
    "    opp_percent = OPPORTUNITY_PERCENT\n",
    "    if partition.parent is None:\n",
    "        return True\n",
    "    \n",
    "    curr_opp_dists = 0\n",
    "    prev_opp_dists = 0\n",
    "    for i in range(num_districts):\n",
    "        curr_bvap_percent = partition[\"bvap\"][i] / partition[\"vap\"][i]\n",
    "        prev_bvap_percent = partition.parent[\"bvap\"][i] / partition.parent[\"vap\"][i]\n",
    "        \n",
    "        if curr_bvap_percent >= opp_percent:\n",
    "            curr_opp_dists += 1\n",
    "        if prev_bvap_percent >= opp_percent:\n",
    "            prev_opp_dists += 1\n",
    "        \n",
    "    \n",
    "\n",
    "    \n",
    "    if curr_opp_dists >= prev_opp_dists: \n",
    "        return True\n",
    "    else:\n",
    "        return random.random() < bad_mobility_prob\n",
    "            \n",
    "\n",
    "# Funky Weighted Opportunity Score\n",
    "def increase_funky_opportunity_score(partition, bad_mobility_prob = 0.2):\n",
    "    \n",
    "    curr_bvap_list = []\n",
    "    prev_bvap_list = []\n",
    "    \n",
    "    for i in range(num_districts):\n",
    "        curr_bvap_percent = partition[\"bvap\"][i] / partition[\"vap\"][i]\n",
    "        prev_bvap_percent = partition.parent[\"bvap\"][i] / partition.parent[\"vap\"][i]\n",
    "        \n",
    "        curr_bvap_list.append(curr_bvap_percent)\n",
    "        prev_bvap_list.append(prev_bvap_percent)\n",
    "    \n",
    "    curr_bvap_list = sorted(curr_bvap_list)\n",
    "    prev_bvap_list = sorted(prev_bvap_list)\n",
    "    \n",
    "    curr_bvap_score = 0\n",
    "    for i in range(num_districts-1,-1,-1):\n",
    "        if curr_bvap_list[i] >= OPPORTUNITY_PERCENT:\n",
    "            curr_bvap_score += 1\n",
    "        else:\n",
    "            curr_bvap_score += curr_bvap_list[i]\n",
    "            break\n",
    "    \n",
    "    prev_bvap_score = 0 \n",
    "    for i in range(num_districts-1,-1,-1):\n",
    "        if prev_bvap_list[i] >= OPPORTUNITY_PERCENT:\n",
    "            prev_bvap_score += 1\n",
    "        else:\n",
    "            prev_bvap_score += prev_bvap_list[i]\n",
    "            break\n",
    "            \n",
    "    if curr_bvap_score >= prev_bvap_score:   \n",
    "        return True\n",
    "    else:\n",
    "        return random.random() < bad_mobility_prob\n",
    "       "
   ]
  },
  {
   "cell_type": "code",
   "execution_count": 40,
   "metadata": {},
   "outputs": [],
   "source": [
    "####################################################################################\n",
    "################################## Short Burst #####################################\n",
    "####################################################################################    \n",
    "\n",
    "def short_burst_run(initial_partition, num_bursts, num_steps, accept_function):\n",
    "    max_partition = initial_partition\n",
    "    max_score = 0 # bhushan come back here later...\n",
    "    \n",
    "    score_list = []\n",
    "\n",
    "    for i in range(num_bursts):\n",
    "        \n",
    "        chain = MarkovChain(tree_proposal, \n",
    "                          Validator([popbound]), \n",
    "                          accept=accept_function,\n",
    "                          initial_state=max_partition, \n",
    "                          total_steps=num_steps)\n",
    "\n",
    "        for partition in chain:\n",
    "            current_score = count_opportunity_districts(partition)\n",
    "            \n",
    "            if current_score >= max_score:\n",
    "                max_partition = partition\n",
    "                max_score = current_score\n",
    "                # > or >= has implications, not sure which is best...\n",
    "            \n",
    "            score_list.append(current_score)\n",
    "                \n",
    "\n",
    "    return score_list\n"
   ]
  },
  {
   "cell_type": "code",
   "execution_count": 41,
   "metadata": {},
   "outputs": [
    {
     "data": {
      "image/png": "[encoded data removed]",
      "text/plain": [
       "<Figure size 432x288 with 1 Axes>"
      ]
     },
     "metadata": {
      "needs_background": "light"
     },
     "output_type": "display_data"
    }
   ],
   "source": [
    "score_list = short_burst_run(seed_partition,10,500,always_accept)\n",
    "\n",
    "ticks = range(0, 5000, 500)\n",
    "plt.plot(score_list, range(5000))\n",
    "plt.title(\"Opportunity districts increase / remain same\")\n",
    "plt.xlabel(\"# Score List\")\n",
    "plt.ylabel(\"# of steps in chain\")\n",
    "for tick in ticks:\n",
    "    plt.axhline(y=tick, color='r')\n",
    "\n",
    "plt.show()"
   ]
  },
  {
   "cell_type": "code",
   "execution_count": 8,
   "metadata": {},
   "outputs": [
    {
     "data": {
      "image/png": "[encoded data removed]",
      "text/plain": [
       "<Figure size 432x288 with 1 Axes>"
      ]
     },
     "metadata": {
      "needs_background": "light"
     },
     "output_type": "display_data"
    }
   ],
   "source": [
    "# Opportunity district cell\n",
    "recom_chain = MarkovChain(tree_proposal, \n",
    "                          Validator([popbound]), \n",
    "                          accept=increase_opportunity_districts,\n",
    "                          initial_state=seed_partition, \n",
    "                          total_steps=num_markov_steps)\n",
    "\n",
    "opportunity_districts_counts = []\n",
    "\n",
    "for partition in recom_chain:\n",
    "    opportunity_districts_counts.append(partition[\"opportunity_districts\"])\n",
    "    \n",
    "plt.plot(opportunity_districts_counts, range(num_markov_steps))\n",
    "plt.title(\"Opportunity districts increase / remain same\")\n",
    "plt.xlabel(\"# of opportunity districts\")\n",
    "plt.ylabel(\"# of steps in chain\")\n",
    "\n",
    "# save array \n",
    "opportunity_districts_counts = np.array(opportunity_districts_counts)\n",
    "np.save(\"opportunity_district_counts\", opportunity_districts_counts)"
   ]
  },
  {
   "cell_type": "code",
   "execution_count": 9,
   "metadata": {},
   "outputs": [
    {
     "data": {
      "image/png": "[encoded data removed]",
      "text/plain": [
       "<Figure size 432x288 with 1 Axes>"
      ]
     },
     "metadata": {
      "needs_background": "light"
     },
     "output_type": "display_data"
    }
   ],
   "source": [
    "# Funky score cell\n",
    "\n",
    "recom_chain = MarkovChain(tree_proposal, \n",
    "                          Validator([popbound]), \n",
    "                          accept=increase_funky_opportunity_score,\n",
    "                          initial_state=seed_partition, \n",
    "                          total_steps=num_markov_steps)\n",
    "\n",
    "funky_scores = []\n",
    "\n",
    "for partition in recom_chain:    \n",
    "    funky_scores.append(partition[\"funky_score\"])      \n",
    "\n",
    "plt.plot(funky_scores, range(num_markov_steps))\n",
    "plt.title(\"Funky Scores increase / remain same\")\n",
    "plt.xlabel(\"Funky Score\")\n",
    "plt.ylabel(\"# of steps in chain\")\n",
    "\n",
    "# save array \n",
    "funky_scores = np.array(funky_scores)\n",
    "np.save(\"funky_scores\", funky_scores)"
   ]
  },
  {
   "cell_type": "code",
   "execution_count": null,
   "metadata": {
    "scrolled": true
   },
   "outputs": [],
   "source": []
  },
  {
   "cell_type": "code",
   "execution_count": null,
   "metadata": {},
   "outputs": [],
   "source": []
  }
 ],
 "metadata": {
  "kernelspec": {
   "display_name": "Python 3",
   "language": "python",
   "name": "python3"
  },
  "language_info": {
   "codemirror_mode": {
    "name": "ipython",
    "version": 3
   },
   "file_extension": ".py",
   "mimetype": "text/x-python",
   "name": "python",
   "nbconvert_exporter": "python",
   "pygments_lexer": "ipython3",
   "version": "3.7.3"
  }
 },
 "nbformat": 4,
 "nbformat_minor": 2
}

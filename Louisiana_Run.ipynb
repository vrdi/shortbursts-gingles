{
 "cells": [
  {
   "cell_type": "code",
   "execution_count": 1,
   "metadata": {},
   "outputs": [],
   "source": [
    "import matplotlib.pyplot as plt\n",
    "import pandas\n",
    "import numpy as np\n",
    "\n",
    "# gerrychain imports\n",
    "from gerrychain import (GeographicPartition, Partition, Graph, MarkovChain,\n",
    "                        proposals, updaters, constraints, accept, Election)\n",
    "from gerrychain.proposals import recom\n",
    "from gerrychain.tree import recursive_tree_part\n",
    "from gerrychain.accept import always_accept\n",
    "from gerrychain.constraints import (Validator, single_flip_contiguous,\n",
    "                                    within_percent_of_ideal_population, UpperBound)\n",
    "from functools import partial"
   ]
  },
  {
   "cell_type": "code",
   "execution_count": 2,
   "metadata": {},
   "outputs": [],
   "source": [
    "# State specific variables\n",
    "state = \"LA\" # Louisiana\n",
    "num_districts = 39 # senate districts\n",
    "data_path = \"./LA_data/LA_data.json\"\n",
    "pop_varname = \"TOTPOP\"\n",
    "bvap_varname = \"BVAP\"\n",
    "vap_varname = \"VAP\"\n",
    "num_markov_steps = 100 # in Markov chain"
   ]
  },
  {
   "cell_type": "code",
   "execution_count": 3,
   "metadata": {},
   "outputs": [],
   "source": [
    "# load the graph\n",
    "graph = Graph.from_json(data_path)"
   ]
  },
  {
   "cell_type": "code",
   "execution_count": 4,
   "metadata": {},
   "outputs": [],
   "source": [
    "def get_ideal_population(graph, pop_varname, num_districts):\n",
    "    tot_pop = 0\n",
    "    for i in range(len(graph.nodes)):\n",
    "        tot_pop += graph.nodes[i][pop_varname]\n",
    "        \n",
    "    return int(tot_pop/num_districts)\n",
    "\n",
    "ideal_population = get_ideal_population(graph, pop_varname, num_districts)"
   ]
  },
  {
   "cell_type": "code",
   "execution_count": 5,
   "metadata": {},
   "outputs": [],
   "source": [
    "updaters = {\"population\": updaters.Tally(pop_varname, alias=\"population\"),\n",
    "            \"bvap\":updaters.Tally(bvap_varname, alias='bvap'),\n",
    "            \"vap\":updaters.Tally(vap_varname, alias='vap'),\n",
    "           }"
   ]
  },
  {
   "cell_type": "code",
   "execution_count": 6,
   "metadata": {},
   "outputs": [],
   "source": [
    "####################################################################################\n",
    "################ Build Initial Partition and Markov Chain ##########################\n",
    "####################################################################################\n",
    "\n",
    "\n",
    "## Build the initial partition\n",
    "\n",
    "# assign each node to a district in a dict of the form {node: district}\n",
    "seed_partition_dict = recursive_tree_part(graph, range(39), pop_col=pop_varname,\n",
    "                                     pop_target=ideal_population,\n",
    "                                     epsilon=0.01, node_repeats=1)\n",
    "\n",
    "# use the partition dictionary to build a Partition object\n",
    "seed_partition = GeographicPartition(graph, assignment=seed_partition_dict, updaters=updaters)\n",
    "\n",
    "## Build the Markov chain\n",
    "tree_proposal = partial(recom,\n",
    "                       pop_col=pop_varname,\n",
    "                       pop_target=ideal_population,\n",
    "                       epsilon=0.05,\n",
    "                       node_repeats=1\n",
    "                      )\n",
    "\n",
    "# Constraints\n",
    "def increase_opportunity_districts(proposal_partition):\n",
    "    opp_percent = 0.35\n",
    "    if partition.parent is None:\n",
    "        return True\n",
    "    \n",
    "    curr_opp_dists = 0\n",
    "    prev_opp_dists = 0\n",
    "    for i in range(num_districts):\n",
    "        curr_bvap_percent = partition[\"bvap\"][i] / partition[\"vap\"][i]\n",
    "        prev_bvap_percent = partition.parent[\"bvap\"][i] / partition.parent[\"vap\"][i]\n",
    "        \n",
    "        if curr_bvap_percent >= opp_percent:\n",
    "            curr_opp_dists += 1\n",
    "        if prev_bvap_percent >= opp_percent:\n",
    "            prev_opp_dists += 1\n",
    "             \n",
    "    if curr_opp_dists >= prev_opp_dists:\n",
    "        return True\n",
    "    else:\n",
    "        return False\n",
    "    \n",
    "popbound = within_percent_of_ideal_population(seed_partition, .1)\n",
    "\n",
    "recom_chain = MarkovChain(tree_proposal, Validator([popbound]), accept=increase_opportunity_districts,\n",
    "                          initial_state=seed_partition, total_steps=num_markov_steps)"
   ]
  },
  {
   "cell_type": "code",
   "execution_count": 10,
   "metadata": {},
   "outputs": [
    {
     "name": "stdout",
     "output_type": "stream",
     "text": [
      "[0, 1, 2, 3, 4, 5, 6, 7, 8, 9, 10, 11, 12, 13, 14, 15, 16, 17, 18, 19, 20, 21, 22, 23, 24, 25, 26, 27, 28, 29, 30, 31, 32, 33, 34, 35, 36, 37, 38, 39, 40, 41, 42, 43, 44, 45, 46, 47, 48, 49, 50, 51, 52, 53, 54, 55, 56, 57, 58, 59, 60, 61, 62, 63, 64, 65, 66, 67, 68, 69, 70, 71, 72, 73, 74, 75, 76, 77, 78, 79, 80, 81, 82, 83, 84, 85, 86, 87, 88, 89, 90, 91, 92, 93, 94, 95, 96, 97, 98, 99]\n",
      "[9, 9, 9, 9, 9, 9, 9, 9, 9, 9, 9, 9, 9, 9, 9, 9, 9, 9, 9, 9, 9, 9, 9, 9, 9, 9, 10, 10, 10, 10, 10, 10, 10, 11, 11, 11, 11, 11, 12, 13, 13, 13, 12, 11, 10, 10, 10, 10, 10, 10, 10, 10, 11, 11, 11, 12, 12, 13, 12, 12, 11, 11, 11, 11, 11, 11, 11, 11, 11, 11, 11, 11, 11, 11, 11, 11, 11, 11, 11, 11, 11, 11, 11, 11, 11, 11, 11, 11, 11, 11, 11, 11, 11, 11, 11, 11, 11, 11, 11, 11]\n"
     ]
    }
   ],
   "source": [
    "time = []\n",
    "steps = 0\n",
    "\n",
    "num_opp_dist_list = []\n",
    "opp_percent = 0.35\n",
    "\n",
    "for partition in recom_chain:\n",
    "    curr_opp_dists = 0\n",
    "    for i in range(num_districts):\n",
    "        bvap_percent = partition[\"bvap\"][i] / partition[\"vap\"][i]\n",
    "        if bvap_percent >= opp_percent:\n",
    "            curr_opp_dists += 1\n",
    "    \n",
    "    num_opp_dist_list.append(curr_opp_dists)\n",
    "    time.append(steps)\n",
    "    steps += 1\n",
    "\n",
    "print(time)\n",
    "print(num_opp_dist_list)"
   ]
  },
  {
   "cell_type": "code",
   "execution_count": 8,
   "metadata": {},
   "outputs": [
    {
     "data": {
      "text/plain": [
       "[<matplotlib.lines.Line2D at 0x117f68320>]"
      ]
     },
     "execution_count": 8,
     "metadata": {},
     "output_type": "execute_result"
    },
    {
     "data": {
      "image/png": "[encoded data removed]",
      "text/plain": [
       "<Figure size 432x288 with 1 Axes>"
      ]
     },
     "metadata": {
      "needs_background": "light"
     },
     "output_type": "display_data"
    }
   ],
   "source": [
    "plt.plot(num_opp_dist_list, time)\n",
    "\n",
    "    "
   ]
  },
  {
   "cell_type": "code",
   "execution_count": null,
   "metadata": {},
   "outputs": [],
   "source": [
    "len(graph.nodes)"
   ]
  },
  {
   "cell_type": "code",
   "execution_count": null,
   "metadata": {},
   "outputs": [],
   "source": []
  }
 ],
 "metadata": {
  "kernelspec": {
   "display_name": "Python 3",
   "language": "python",
   "name": "python3"
  },
  "language_info": {
   "codemirror_mode": {
    "name": "ipython",
    "version": 3
   },
   "file_extension": ".py",
   "mimetype": "text/x-python",
   "name": "python",
   "nbconvert_exporter": "python",
   "pygments_lexer": "ipython3",
   "version": "3.7.3"
  }
 },
 "nbformat": 4,
 "nbformat_minor": 2
}

{
 "cells": [
  {
   "cell_type": "code",
   "execution_count": 1,
   "metadata": {},
   "outputs": [],
   "source": [
    "import matplotlib.pyplot as plt\n",
    "import pandas\n",
    "import numpy as np\n",
    "\n",
    "# gerrychain imports\n",
    "from gerrychain import (GeographicPartition, Partition, Graph, MarkovChain,\n",
    "                        proposals, updaters, constraints, accept, Election)\n",
    "from gerrychain.proposals import recom\n",
    "from gerrychain.tree import recursive_tree_part\n",
    "from gerrychain.accept import always_accept\n",
    "from gerrychain.constraints import (Validator, single_flip_contiguous,\n",
    "                                    within_percent_of_ideal_population, UpperBound)\n",
    "from functools import partial"
   ]
  },
  {
   "cell_type": "code",
   "execution_count": 2,
   "metadata": {},
   "outputs": [],
   "source": [
    "# State specific variables\n",
    "state = \"LA\" # Louisiana\n",
    "num_districts = 39 # senate districts\n",
    "data_path = \"./LA_data/LA_data.json\"\n",
    "pop_varname = \"TOTPOP\"\n",
    "bvap_varname = \"BVAP\"\n",
    "vap_varname = \"VAP\"\n",
    "num_markov_steps = 50000 # in Markov chain\n",
    "OPPORTUNITY_PERCENT = 0.4"
   ]
  },
  {
   "cell_type": "code",
   "execution_count": 3,
   "metadata": {},
   "outputs": [],
   "source": [
    "# load the graph\n",
    "graph = Graph.from_json(data_path)"
   ]
  },
  {
   "cell_type": "code",
   "execution_count": 4,
   "metadata": {},
   "outputs": [],
   "source": [
    "#################################################################################\n",
    "################## Get ideal population and updaters ############################\n",
    "#################################################################################\n",
    "\n",
    "def get_ideal_population(graph, pop_varname, num_districts):\n",
    "    tot_pop = 0\n",
    "    for i in range(len(graph.nodes)):\n",
    "        tot_pop += graph.nodes[i][pop_varname]\n",
    "        \n",
    "    return int(tot_pop/num_districts)\n",
    "\n",
    "ideal_population = get_ideal_population(graph, pop_varname, num_districts)\n",
    "\n",
    "updaters = {\"population\": updaters.Tally(pop_varname, alias=\"population\"),\n",
    "            \"bvap\":updaters.Tally(bvap_varname, alias='bvap'),\n",
    "            \"vap\":updaters.Tally(vap_varname, alias='vap'),\n",
    "           }"
   ]
  },
  {
   "cell_type": "code",
   "execution_count": 5,
   "metadata": {},
   "outputs": [],
   "source": [
    "####################################################################################\n",
    "################ Build Initial Partition and Markov Chain ##########################\n",
    "####################################################################################\n",
    "\n",
    "\n",
    "## Build the initial partition\n",
    "\n",
    "# assign each node to a district in a dict of the form {node: district}\n",
    "seed_partition_dict = recursive_tree_part(graph, range(39), pop_col=pop_varname,\n",
    "                                     pop_target=ideal_population,\n",
    "                                     epsilon=0.01, node_repeats=1)\n",
    "\n",
    "# use the partition dictionary to build a Partition object\n",
    "seed_partition = GeographicPartition(graph, assignment=seed_partition_dict, updaters=updaters)\n",
    "\n",
    "## Build the Markov chain\n",
    "tree_proposal = partial(recom,\n",
    "                       pop_col=pop_varname,\n",
    "                       pop_target=ideal_population,\n",
    "                       epsilon=0.05,\n",
    "                       node_repeats=1\n",
    "                      )\n",
    "\n",
    "# Define the acceptance function\n",
    "def increase_opportunity_districts(partition):\n",
    "    opp_percent = OPPORTUNITY_PERCENT\n",
    "    if partition.parent is None:\n",
    "        return True\n",
    "    \n",
    "    curr_opp_dists = 0\n",
    "    prev_opp_dists = 0\n",
    "    for i in range(num_districts):\n",
    "        curr_bvap_percent = partition[\"bvap\"][i] / partition[\"vap\"][i]\n",
    "        prev_bvap_percent = partition.parent[\"bvap\"][i] / partition.parent[\"vap\"][i]\n",
    "        \n",
    "        if curr_bvap_percent >= opp_percent:\n",
    "            curr_opp_dists += 1\n",
    "        if prev_bvap_percent >= opp_percent:\n",
    "            prev_opp_dists += 1\n",
    "\n",
    "    return curr_opp_dists >= prev_opp_dists\n",
    "    \n",
    "# Constraints\n",
    "popbound = within_percent_of_ideal_population(seed_partition, .1)\n",
    "\n",
    "# Initialize the chain\n",
    "recom_chain = MarkovChain(tree_proposal, \n",
    "                          Validator([popbound]), \n",
    "                          accept=increase_opportunity_districts,\n",
    "                          initial_state=seed_partition, \n",
    "                          total_steps=num_markov_steps)"
   ]
  },
  {
   "cell_type": "code",
   "execution_count": null,
   "metadata": {},
   "outputs": [],
   "source": [
    "opportunity_districts_counts = []\n",
    "\n",
    "for partition in recom_chain:\n",
    "    curr_opp_dists = 0\n",
    "    for i in range(num_districts):\n",
    "        bvap_percent = partition[\"bvap\"][i] / partition[\"vap\"][i]\n",
    "        if bvap_percent >= OPPORTUNITY_PERCENT:\n",
    "            curr_opp_dists += 1\n",
    "    \n",
    "    opportunity_districts_counts.append(curr_opp_dists)"
   ]
  },
  {
   "cell_type": "code",
   "execution_count": null,
   "metadata": {
    "scrolled": true
   },
   "outputs": [],
   "source": [
    "plt.plot(opportunity_districts_counts, range(num_markov_steps))\n",
    "plt.title(\"Opportunity districts increase / remain same\")\n",
    "plt.xlabel(\"# of opportunity districts\")\n",
    "plt.ylabel(\"# of steps in chain\")\n",
    "\n",
    "# save array \n",
    "opportunity_districts_counts = np.array(opportunity_districts_counts)\n",
    "np.save(\"opportunity_district_counts\", opportunity_districts_counts)"
   ]
  }
 ],
 "metadata": {
  "kernelspec": {
   "display_name": "Python 3",
   "language": "python",
   "name": "python3"
  },
  "language_info": {
   "codemirror_mode": {
    "name": "ipython",
    "version": 3
   },
   "file_extension": ".py",
   "mimetype": "text/x-python",
   "name": "python",
   "nbconvert_exporter": "python",
   "pygments_lexer": "ipython3",
   "version": "3.7.3"
  }
 },
 "nbformat": 4,
 "nbformat_minor": 2
}

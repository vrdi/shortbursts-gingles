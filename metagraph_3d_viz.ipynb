{
 "cells": [
  {
   "cell_type": "code",
   "execution_count": 72,
   "metadata": {},
   "outputs": [],
   "source": [
    "import random\n",
    "import pickle\n",
    "import matplotlib.pyplot as plt\n",
    "import numpy as np\n",
    "from functools import (partial, reduce)\n",
    "import networkx as nx\n",
    "import scipy\n",
    "from sklearn import manifold\n",
    "\n",
    "from gerrychain.constraints import (\n",
    "    Validator,\n",
    "    single_flip_contiguous,\n",
    "    within_percent_of_ideal_population,\n",
    ")\n",
    "from gerrychain import (GeographicPartition, Partition, Graph, MarkovChain,\n",
    "                        proposals, updaters, constraints, accept, Election)\n",
    "\n",
    "from gerrychain.proposals import propose_random_flip\n",
    "from gerrychain.accept import always_accept\n",
    "from gerrychain.updaters import Election, Tally, cut_edges\n",
    "from gerrychain.partition import Partition\n",
    "from gerrychain.proposals import recom\n",
    "from gerrychain.metrics import mean_median, efficiency_gap\n",
    "\n",
    "from sklearn.preprocessing import scale, normalize"
   ]
  },
  {
   "cell_type": "code",
   "execution_count": 73,
   "metadata": {},
   "outputs": [],
   "source": [
    "grid_width = 3\n",
    "grid_height = 3\n",
    "node_size = 50\n",
    "OPPORTUNITY_PERCENT = 0.5 # suffices for 3x3->3 grid\n",
    "num_combinations = 10\n",
    "\n",
    "graph = nx.grid_graph([grid_width , grid_height])\n",
    "# #####PLOT GRIDS\n",
    "initial_assignment = {x: x[0] for x in graph.nodes()}\n",
    "graph = nx.relabel.convert_node_labels_to_integers(graph)        \n",
    "# build initial_assignment\n",
    "relabeled_assignment = list(initial_assignment.values())\n",
    "initial_assignment = dict()\n",
    "for i in range(len(graph.nodes)):\n",
    "    initial_assignment[i] = relabeled_assignment[i]\n",
    "\n",
    "    \n",
    "    \n",
    "# red is the minority\n",
    "# red_nodes = [(1,1),(1,2),(2,1),(2,2)]\n",
    "red_nodes = [3,4,6,7]\n",
    "\n",
    "for node in graph.nodes():\n",
    "    graph.node[node][\"population\"] = 1\n",
    "    \n",
    "    if node in red_nodes:\n",
    "        graph.node[node][\"red\"]=1\n",
    "        graph.node[node][\"black\"]=0\n",
    "    else:\n",
    "        graph.node[node][\"red\"]=0\n",
    "        graph.node[node][\"black\"]=1\n",
    "        \n",
    "\n",
    "\n",
    "\n",
    "\n",
    "# color_dict = {1: \"red\", 0: \"black\"}\n",
    "\n",
    "# plt.figure()\n",
    "# nx.draw(\n",
    "#     graph,\n",
    "#     pos={x: x for x in graph.nodes()},\n",
    "#     node_color=[color_dict[graph.node[x][\"red\"]] for x in graph.nodes()],\n",
    "#     node_size=node_size,\n",
    "#     node_shape=\"s\",\n",
    "# )\n",
    "# plt.show()"
   ]
  },
  {
   "cell_type": "code",
   "execution_count": 74,
   "metadata": {},
   "outputs": [],
   "source": [
    "### find a way to compare partitions\n",
    "### run a chain and get the 10 districts\n",
    "### pass it to JN's thing\n",
    "\n",
    "def count_gingles_districts(partition):\n",
    "    num_gingles_districts = 0\n",
    "\n",
    "    for district in partition.parts.keys():\n",
    "        # count minority nodes\n",
    "        minority_nodes = 0\n",
    "        for node in partition.parts[district]:\n",
    "            if graph.nodes[node][\"red\"] == 1:\n",
    "                minority_nodes += 1\n",
    "                \n",
    "        if minority_nodes / len(partition.parts.keys()) > OPPORTUNITY_PERCENT:\n",
    "            num_gingles_districts += 1\n",
    "            \n",
    "    return num_gingles_districts\n",
    "        \n",
    "    \n",
    "updaters = {\n",
    "    \"population\": Tally(\"population\"),\n",
    "    \"num_gingles_districts\": count_gingles_districts,\n",
    "    \"cut_edges\": cut_edges\n",
    "}\n",
    "    \n",
    "    \n",
    "grid_partition = Partition(graph, assignment=initial_assignment, updaters=updaters)\n",
    "\n",
    "# ADD CONSTRAINTS\n",
    "popbound = within_percent_of_ideal_population(grid_partition, 0.1)\n",
    "\n",
    "# ########Setup Proposal\n",
    "ideal_population = sum(grid_partition[\"population\"].values()) / len(grid_partition)\n",
    "\n",
    "tree_proposal = partial(\n",
    "    recom,\n",
    "    pop_col=\"population\",\n",
    "    pop_target=ideal_population,\n",
    "    epsilon=0.05,\n",
    "    node_repeats=1,\n",
    ")\n",
    "\n",
    "boundary_chain = MarkovChain(\n",
    "    tree_proposal,\n",
    "    Validator([single_flip_contiguous, popbound]),\n",
    "    accept=always_accept,\n",
    "    initial_state=grid_partition,\n",
    "    total_steps=100,\n",
    ")"
   ]
  },
  {
   "cell_type": "code",
   "execution_count": 75,
   "metadata": {},
   "outputs": [
    {
     "name": "stdout",
     "output_type": "stream",
     "text": [
      "10\n"
     ]
    }
   ],
   "source": [
    "# store the partitions in a list\n",
    "partition_list = []\n",
    "gingles_scores = []\n",
    "\n",
    "# run the chain\n",
    "for current_partition in boundary_chain:\n",
    "\n",
    "    seen_before = False\n",
    "    # check if you have seen the partition already\n",
    "    for seen_partition in partition_list:\n",
    "        \n",
    "        # TODO: nasty code that needs to be rewritten\n",
    "        seen_list = seen_partition.parts.values()\n",
    "        seen_list = [sorted(list(unit)) for unit in seen_list]\n",
    "        seen_list = sorted(seen_list)\n",
    "        \n",
    "        curr_list = current_partition.parts.values()\n",
    "        curr_list = [sorted(list(unit)) for unit in curr_list]\n",
    "        curr_list = sorted(curr_list)\n",
    "        \n",
    "        if seen_list == curr_list:\n",
    "            seen_before = True\n",
    "            break\n",
    "    \n",
    "    if not seen_before:\n",
    "        gingles_scores.append(current_partition[\"num_gingles_districts\"])\n",
    "        # if haven't seen the partition before, we want to keep it\n",
    "        partition_list.append(current_partition)\n",
    "        \n",
    "        \n",
    "    if len(partition_list) == num_combinations:\n",
    "        break\n",
    "\n",
    "print(len(partition_list))"
   ]
  },
  {
   "cell_type": "code",
   "execution_count": 16,
   "metadata": {},
   "outputs": [
    {
     "ename": "IndexError",
     "evalue": "too many indices for array",
     "output_type": "error",
     "traceback": [
      "\u001b[0;31m---------------------------------------------------------------------------\u001b[0m",
      "\u001b[0;31mIndexError\u001b[0m                                Traceback (most recent call last)",
      "\u001b[0;32m<ipython-input-16-3b3fc498ee1b>\u001b[0m in \u001b[0;36m<module>\u001b[0;34m\u001b[0m\n\u001b[1;32m     21\u001b[0m         \u001b[0mnode_color\u001b[0m\u001b[0;34m=\u001b[0m\u001b[0;34m[\u001b[0m\u001b[0mcolor_dict\u001b[0m\u001b[0;34m[\u001b[0m\u001b[0mx\u001b[0m\u001b[0;34m]\u001b[0m \u001b[0;32mfor\u001b[0m \u001b[0mx\u001b[0m \u001b[0;32min\u001b[0m \u001b[0mlist\u001b[0m\u001b[0;34m(\u001b[0m\u001b[0massignment\u001b[0m\u001b[0;34m.\u001b[0m\u001b[0mvalues\u001b[0m\u001b[0;34m(\u001b[0m\u001b[0;34m)\u001b[0m\u001b[0;34m)\u001b[0m\u001b[0;34m]\u001b[0m\u001b[0;34m,\u001b[0m\u001b[0;34m\u001b[0m\u001b[0;34m\u001b[0m\u001b[0m\n\u001b[1;32m     22\u001b[0m         \u001b[0mnode_size\u001b[0m\u001b[0;34m=\u001b[0m\u001b[0mnode_size\u001b[0m\u001b[0;34m,\u001b[0m\u001b[0;34m\u001b[0m\u001b[0;34m\u001b[0m\u001b[0m\n\u001b[0;32m---> 23\u001b[0;31m         \u001b[0mnode_shape\u001b[0m\u001b[0;34m=\u001b[0m\u001b[0;34m\"s\"\u001b[0m\u001b[0;34m,\u001b[0m\u001b[0;34m\u001b[0m\u001b[0;34m\u001b[0m\u001b[0m\n\u001b[0m\u001b[1;32m     24\u001b[0m     )\n\u001b[1;32m     25\u001b[0m     \u001b[0mplt\u001b[0m\u001b[0;34m.\u001b[0m\u001b[0mshow\u001b[0m\u001b[0;34m(\u001b[0m\u001b[0;34m)\u001b[0m\u001b[0;34m\u001b[0m\u001b[0;34m\u001b[0m\u001b[0m\n",
      "\u001b[0;32m~/miniconda3/envs/Gerry/lib/python3.7/site-packages/networkx/drawing/nx_pylab.py\u001b[0m in \u001b[0;36mdraw\u001b[0;34m(G, pos, ax, **kwds)\u001b[0m\n\u001b[1;32m    126\u001b[0m \u001b[0;34m\u001b[0m\u001b[0m\n\u001b[1;32m    127\u001b[0m     \u001b[0;32mtry\u001b[0m\u001b[0;34m:\u001b[0m\u001b[0;34m\u001b[0m\u001b[0;34m\u001b[0m\u001b[0m\n\u001b[0;32m--> 128\u001b[0;31m         \u001b[0mdraw_networkx\u001b[0m\u001b[0;34m(\u001b[0m\u001b[0mG\u001b[0m\u001b[0;34m,\u001b[0m \u001b[0mpos\u001b[0m\u001b[0;34m=\u001b[0m\u001b[0mpos\u001b[0m\u001b[0;34m,\u001b[0m \u001b[0max\u001b[0m\u001b[0;34m=\u001b[0m\u001b[0max\u001b[0m\u001b[0;34m,\u001b[0m \u001b[0;34m**\u001b[0m\u001b[0mkwds\u001b[0m\u001b[0;34m)\u001b[0m\u001b[0;34m\u001b[0m\u001b[0;34m\u001b[0m\u001b[0m\n\u001b[0m\u001b[1;32m    129\u001b[0m         \u001b[0max\u001b[0m\u001b[0;34m.\u001b[0m\u001b[0mset_axis_off\u001b[0m\u001b[0;34m(\u001b[0m\u001b[0;34m)\u001b[0m\u001b[0;34m\u001b[0m\u001b[0;34m\u001b[0m\u001b[0m\n\u001b[1;32m    130\u001b[0m         \u001b[0mplt\u001b[0m\u001b[0;34m.\u001b[0m\u001b[0mdraw_if_interactive\u001b[0m\u001b[0;34m(\u001b[0m\u001b[0;34m)\u001b[0m\u001b[0;34m\u001b[0m\u001b[0;34m\u001b[0m\u001b[0m\n",
      "\u001b[0;32m~/miniconda3/envs/Gerry/lib/python3.7/site-packages/networkx/drawing/nx_pylab.py\u001b[0m in \u001b[0;36mdraw_networkx\u001b[0;34m(G, pos, arrows, with_labels, **kwds)\u001b[0m\n\u001b[1;32m    277\u001b[0m         \u001b[0mpos\u001b[0m \u001b[0;34m=\u001b[0m \u001b[0mnx\u001b[0m\u001b[0;34m.\u001b[0m\u001b[0mdrawing\u001b[0m\u001b[0;34m.\u001b[0m\u001b[0mspring_layout\u001b[0m\u001b[0;34m(\u001b[0m\u001b[0mG\u001b[0m\u001b[0;34m)\u001b[0m  \u001b[0;31m# default to spring layout\u001b[0m\u001b[0;34m\u001b[0m\u001b[0;34m\u001b[0m\u001b[0m\n\u001b[1;32m    278\u001b[0m \u001b[0;34m\u001b[0m\u001b[0m\n\u001b[0;32m--> 279\u001b[0;31m     \u001b[0mnode_collection\u001b[0m \u001b[0;34m=\u001b[0m \u001b[0mdraw_networkx_nodes\u001b[0m\u001b[0;34m(\u001b[0m\u001b[0mG\u001b[0m\u001b[0;34m,\u001b[0m \u001b[0mpos\u001b[0m\u001b[0;34m,\u001b[0m \u001b[0;34m**\u001b[0m\u001b[0mkwds\u001b[0m\u001b[0;34m)\u001b[0m\u001b[0;34m\u001b[0m\u001b[0;34m\u001b[0m\u001b[0m\n\u001b[0m\u001b[1;32m    280\u001b[0m     \u001b[0medge_collection\u001b[0m \u001b[0;34m=\u001b[0m \u001b[0mdraw_networkx_edges\u001b[0m\u001b[0;34m(\u001b[0m\u001b[0mG\u001b[0m\u001b[0;34m,\u001b[0m \u001b[0mpos\u001b[0m\u001b[0;34m,\u001b[0m \u001b[0marrows\u001b[0m\u001b[0;34m=\u001b[0m\u001b[0marrows\u001b[0m\u001b[0;34m,\u001b[0m \u001b[0;34m**\u001b[0m\u001b[0mkwds\u001b[0m\u001b[0;34m)\u001b[0m\u001b[0;34m\u001b[0m\u001b[0;34m\u001b[0m\u001b[0m\n\u001b[1;32m    281\u001b[0m     \u001b[0;32mif\u001b[0m \u001b[0mwith_labels\u001b[0m\u001b[0;34m:\u001b[0m\u001b[0;34m\u001b[0m\u001b[0;34m\u001b[0m\u001b[0m\n",
      "\u001b[0;32m~/miniconda3/envs/Gerry/lib/python3.7/site-packages/networkx/drawing/nx_pylab.py\u001b[0m in \u001b[0;36mdraw_networkx_nodes\u001b[0;34m(G, pos, nodelist, node_size, node_color, node_shape, alpha, cmap, vmin, vmax, ax, linewidths, edgecolors, label, **kwds)\u001b[0m\n\u001b[1;32m    404\u001b[0m         \u001b[0malpha\u001b[0m \u001b[0;34m=\u001b[0m \u001b[0;32mNone\u001b[0m\u001b[0;34m\u001b[0m\u001b[0;34m\u001b[0m\u001b[0m\n\u001b[1;32m    405\u001b[0m \u001b[0;34m\u001b[0m\u001b[0m\n\u001b[0;32m--> 406\u001b[0;31m     node_collection = ax.scatter(xy[:, 0], xy[:, 1],\n\u001b[0m\u001b[1;32m    407\u001b[0m                                  \u001b[0ms\u001b[0m\u001b[0;34m=\u001b[0m\u001b[0mnode_size\u001b[0m\u001b[0;34m,\u001b[0m\u001b[0;34m\u001b[0m\u001b[0;34m\u001b[0m\u001b[0m\n\u001b[1;32m    408\u001b[0m                                  \u001b[0mc\u001b[0m\u001b[0;34m=\u001b[0m\u001b[0mnode_color\u001b[0m\u001b[0;34m,\u001b[0m\u001b[0;34m\u001b[0m\u001b[0;34m\u001b[0m\u001b[0m\n",
      "\u001b[0;31mIndexError\u001b[0m: too many indices for array"
     ]
    },
    {
     "data": {
      "image/png": "[encoded data removed]",
      "text/plain": [
       "<Figure size 432x288 with 1 Axes>"
      ]
     },
     "metadata": {},
     "output_type": "display_data"
    }
   ],
   "source": [
    "##################################################################################################\n",
    "####################### SANITY CHECK TO VISUALIZE DISTRICT UNIQUENESS ############################\n",
    "##################################################################################################\n",
    "\n",
    "color_dict = {0: \"blue\", 1: \"green\", 2: \"red\"}\n",
    "\n",
    "for partition in partition_list:\n",
    "    graph = partition.graph\n",
    "    \n",
    "    # figure out the node colors\n",
    "    assignment = {}\n",
    "    for x in graph.nodes():\n",
    "        for key in partition.parts.keys():\n",
    "            if x in partition.parts[key]:\n",
    "                assignment[x] = key\n",
    "    \n",
    "    plt.figure()\n",
    "    nx.draw(\n",
    "        graph,\n",
    "        pos={x: x for x in graph.nodes()},\n",
    "        node_color=[color_dict[x] for x in list(assignment.values())],\n",
    "        node_size=node_size,\n",
    "        node_shape=\"s\",\n",
    "    )\n",
    "    plt.show()\n",
    "    "
   ]
  },
  {
   "cell_type": "code",
   "execution_count": 76,
   "metadata": {},
   "outputs": [],
   "source": [
    "def sparse_bound_walk_metric(plan1, plan2):\n",
    "    score = dir_sparse_bound_walk_metric(plan1, plan2) + dir_sparse_bound_walk_metric(plan2, plan1)\n",
    "    return score\n",
    "\n",
    "def dir_sparse_bound_walk_metric(plan1, plan2):\n",
    "    graph = plan1.graph\n",
    "    adj = nx.adjacency_matrix(graph, weight=None)\n",
    "    trans = normalize(adj, norm=\"l1\")\n",
    "    del adj\n",
    "    plan1_bound = reduce(lambda ns, e: set(e) | ns, plan1[\"cut_edges\"], set())\n",
    "    plan2_bound = reduce(lambda ns, e: set(e) | ns, plan2[\"cut_edges\"], set())\n",
    "    if all(list(map(lambda x: x in plan2_bound, plan1_bound))): return 0\n",
    "\n",
    "    to_delete = plan2_bound #| contained_by_plan2\n",
    "    starters = sorted(plan1_bound - to_delete)\n",
    "    to_delete = list(reversed(sorted(list(to_delete))))\n",
    "    \n",
    "    plan1_bound = reduce(lambda shifted, x: list(map(lambda y: y-1 if y > x else y, shifted)), \n",
    "                         to_delete, starters)\n",
    "    P = trans\n",
    "    del trans\n",
    "    row_mask = np.ones(P.shape[0], dtype=bool)\n",
    "    col_mask = np.ones(P.shape[1], dtype=bool)\n",
    "    row_mask[to_delete] = False\n",
    "    col_mask[to_delete] = False\n",
    "    P = P[row_mask][:,col_mask]\n",
    "    N = scipy.sparse.csr_matrix(scipy.sparse.identity(P.shape[0])) - P\n",
    "    ones = np.ones((P.shape[0], 1))\n",
    "    rowsum = scipy.sparse.linalg.spsolve(N, ones)\n",
    "    \n",
    "    score = sum([rowsum[i] for i in plan1_bound])\n",
    "    return score / len(plan1_bound)"
   ]
  },
  {
   "cell_type": "code",
   "execution_count": 77,
   "metadata": {},
   "outputs": [],
   "source": [
    "##################################################################################################\n",
    "################################ 2D VISUALIZE ####################################################\n",
    "##################################################################################################\n",
    "\n",
    "# Change all the partitions to have graphs that have nodes labeled as integers\n",
    "def change_node_labels_to_integers(partition_list):\n",
    "    for partition in partition_list:\n",
    "        partition.graph = nx.relabel.convert_node_labels_to_integers(partition.graph)        \n",
    "    return partition_list\n",
    "\n",
    "partition_list = change_node_labels_to_integers(partition_list)\n",
    "\n",
    "num_plans = len(partition_list)\n",
    "a = np.zeros([num_plans, num_plans])\n",
    "for i in range(num_plans):\n",
    "    for j in range(num_plans):\n",
    "        if i > j:\n",
    "            temp = sparse_bound_walk_metric(partition_list[i], partition_list[j])\n",
    "            a[i,j] = temp\n",
    "            a[j,i] = temp"
   ]
  },
  {
   "cell_type": "code",
   "execution_count": 78,
   "metadata": {},
   "outputs": [],
   "source": [
    "mds = manifold.MDS(n_components=2, max_iter=3000, eps=.00001, \n",
    "                   dissimilarity=\"precomputed\", n_jobs=1)\n",
    "pos = mds.fit(a).embedding_"
   ]
  },
  {
   "cell_type": "code",
   "execution_count": 79,
   "metadata": {},
   "outputs": [
    {
     "data": {
      "image/png": "[encoded data removed]",
      "text/plain": [
       "<Figure size 864x576 with 1 Axes>"
      ]
     },
     "metadata": {
      "needs_background": "light"
     },
     "output_type": "display_data"
    }
   ],
   "source": [
    "colors = [\"red\", \"pink\", \"orange\", \"yellow\", \"green\", \"lime\", \"cyan\",\n",
    "          \"blue\", \"indigo\", \"mediumpurple\", \"blueviolet\", \"purple\", \"darkmagenta\", \"fuchsia\"]\n",
    "\n",
    "import time\n",
    "plt.figure(figsize=(12,8))\n",
    "for i in range(len(pos)):\n",
    "    plt.plot(pos[i][0],pos[i][1],'.',label=i, markersize=20, color=colors[i])\n",
    "\n",
    "plt.xlim()\n",
    "plt.legend()    \n",
    "plt.show()"
   ]
  },
  {
   "cell_type": "code",
   "execution_count": 83,
   "metadata": {},
   "outputs": [
    {
     "data": {
      "image/png": "[encoded data removed]",
      "text/plain": [
       "<Figure size 432x288 with 1 Axes>"
      ]
     },
     "metadata": {
      "needs_background": "light"
     },
     "output_type": "display_data"
    }
   ],
   "source": [
    "xs = [tup[0] for tup in pos]\n",
    "ys = [tup[1] for tup in pos]\n",
    "\n",
    "# just make the z axis for now\n",
    "from mpl_toolkits import mplot3d\n",
    "fig = plt.figure()\n",
    "ax = plt.axes(projection='3d')\n",
    "\n",
    "# Data for three-dimensional scattered points\n",
    "ax.scatter3D(xs, ys, gingles_scores, cmap='Greens');"
   ]
  },
  {
   "cell_type": "code",
   "execution_count": 84,
   "metadata": {},
   "outputs": [
    {
     "data": {
      "text/plain": [
       "array([[ 7.74741727e-04,  5.01982341e-03],\n",
       "       [-1.16276997e+00,  8.06692011e-02],\n",
       "       [-1.16276997e+00,  8.06692011e-02],\n",
       "       [ 7.74741727e-04,  5.01982341e-03],\n",
       "       [-8.63221284e-02, -1.15954749e+00],\n",
       "       [ 8.57912707e-02,  1.16522197e+00],\n",
       "       [-8.61189216e-02, -1.15956284e+00],\n",
       "       [ 8.57912707e-02,  1.16522197e+00],\n",
       "       [ 1.16242448e+00, -9.13558292e-02],\n",
       "       [ 1.16242448e+00, -9.13558292e-02]])"
      ]
     },
     "execution_count": 84,
     "metadata": {},
     "output_type": "execute_result"
    }
   ],
   "source": [
    "# ok so each point is being squished with another\n",
    "\n",
    "# what is the similarity between these two partitions that makes them squished??\n",
    "\n",
    "pos"
   ]
  },
  {
   "cell_type": "code",
   "execution_count": null,
   "metadata": {},
   "outputs": [],
   "source": []
  }
 ],
 "metadata": {
  "kernelspec": {
   "display_name": "Python 3",
   "language": "python",
   "name": "python3"
  },
  "language_info": {
   "codemirror_mode": {
    "name": "ipython",
    "version": 3
   },
   "file_extension": ".py",
   "mimetype": "text/x-python",
   "name": "python",
   "nbconvert_exporter": "python",
   "pygments_lexer": "ipython3",
   "version": "3.7.3"
  }
 },
 "nbformat": 4,
 "nbformat_minor": 2
}
